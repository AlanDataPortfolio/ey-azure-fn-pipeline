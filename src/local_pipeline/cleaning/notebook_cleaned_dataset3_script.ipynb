{
 "cells": [
  {
   "cell_type": "code",
   "execution_count": 1,
   "id": "a7b0e829-d2d4-4048-a481-0090de838239",
   "metadata": {},
   "outputs": [],
   "source": [
    "# Import necessary libraries\n",
    "import pandas as pd\n",
    "import numpy as np\n",
    "from sklearn.svm import SVR\n",
    "from sklearn.impute import SimpleImputer\n",
    "from sklearn.pipeline import Pipeline\n",
    "from sklearn.preprocessing import StandardScaler, OneHotEncoder\n",
    "from sklearn.preprocessing import LabelEncoder\n",
    "from sklearn.impute import KNNImputer\n",
    "from sklearn.neighbors import KNeighborsRegressor\n",
    "from sklearn.compose import ColumnTransformer\n",
    "from sklearn.metrics import mean_squared_error, mean_absolute_error, r2_score\n",
    "from sklearn.model_selection import GridSearchCV\n",
    "from sklearn.ensemble import RandomForestRegressor\n",
    "from sklearn.ensemble import RandomForestClassifier\n",
    "from sklearn.model_selection import train_test_split, RandomizedSearchCV\n",
    "from sklearn.feature_selection import SelectFromModel\n",
    "from imblearn.over_sampling import SMOTE\n"
   ]
  },
  {
   "cell_type": "markdown",
   "id": "b4dc918d-19f2-4e0c-a5ec-af8efddbbcfa",
   "metadata": {},
   "source": [
    "## EXPLORE THE DATASET"
   ]
  },
  {
   "cell_type": "code",
   "execution_count": 3,
   "id": "ece0403b-f4df-4587-b9b1-ed109651c16e",
   "metadata": {},
   "outputs": [
    {
     "data": {
      "text/html": [
       "<div>\n",
       "<style scoped>\n",
       "    .dataframe tbody tr th:only-of-type {\n",
       "        vertical-align: middle;\n",
       "    }\n",
       "\n",
       "    .dataframe tbody tr th {\n",
       "        vertical-align: top;\n",
       "    }\n",
       "\n",
       "    .dataframe thead th {\n",
       "        text-align: right;\n",
       "    }\n",
       "</style>\n",
       "<table border=\"1\" class=\"dataframe\">\n",
       "  <thead>\n",
       "    <tr style=\"text-align: right;\">\n",
       "      <th></th>\n",
       "      <th>ID</th>\n",
       "      <th>KIDSDRIV</th>\n",
       "      <th>BIRTH</th>\n",
       "      <th>AGE</th>\n",
       "      <th>HOMEKIDS</th>\n",
       "      <th>YOJ</th>\n",
       "      <th>INCOME</th>\n",
       "      <th>PARENT1</th>\n",
       "      <th>HOME_VAL</th>\n",
       "      <th>MSTATUS</th>\n",
       "      <th>...</th>\n",
       "      <th>CAR_TYPE</th>\n",
       "      <th>RED_CAR</th>\n",
       "      <th>OLDCLAIM</th>\n",
       "      <th>CLM_FREQ</th>\n",
       "      <th>REVOKED</th>\n",
       "      <th>MVR_PTS</th>\n",
       "      <th>CLM_AMT</th>\n",
       "      <th>CAR_AGE</th>\n",
       "      <th>CLAIM_FLAG</th>\n",
       "      <th>URBANICITY</th>\n",
       "    </tr>\n",
       "  </thead>\n",
       "  <tbody>\n",
       "    <tr>\n",
       "      <th>0</th>\n",
       "      <td>63581743</td>\n",
       "      <td>0</td>\n",
       "      <td>16MAR39</td>\n",
       "      <td>60.0</td>\n",
       "      <td>0</td>\n",
       "      <td>11.0</td>\n",
       "      <td>$67,349</td>\n",
       "      <td>No</td>\n",
       "      <td>$0</td>\n",
       "      <td>z_No</td>\n",
       "      <td>...</td>\n",
       "      <td>Minivan</td>\n",
       "      <td>yes</td>\n",
       "      <td>$4,461</td>\n",
       "      <td>2</td>\n",
       "      <td>No</td>\n",
       "      <td>3</td>\n",
       "      <td>$0</td>\n",
       "      <td>18.0</td>\n",
       "      <td>0</td>\n",
       "      <td>Highly Urban/ Urban</td>\n",
       "    </tr>\n",
       "    <tr>\n",
       "      <th>1</th>\n",
       "      <td>132761049</td>\n",
       "      <td>0</td>\n",
       "      <td>21JAN56</td>\n",
       "      <td>43.0</td>\n",
       "      <td>0</td>\n",
       "      <td>11.0</td>\n",
       "      <td>$91,449</td>\n",
       "      <td>No</td>\n",
       "      <td>$257,252</td>\n",
       "      <td>z_No</td>\n",
       "      <td>...</td>\n",
       "      <td>Minivan</td>\n",
       "      <td>yes</td>\n",
       "      <td>$0</td>\n",
       "      <td>0</td>\n",
       "      <td>No</td>\n",
       "      <td>0</td>\n",
       "      <td>$0</td>\n",
       "      <td>1.0</td>\n",
       "      <td>0</td>\n",
       "      <td>Highly Urban/ Urban</td>\n",
       "    </tr>\n",
       "    <tr>\n",
       "      <th>2</th>\n",
       "      <td>921317019</td>\n",
       "      <td>0</td>\n",
       "      <td>18NOV51</td>\n",
       "      <td>48.0</td>\n",
       "      <td>0</td>\n",
       "      <td>11.0</td>\n",
       "      <td>$52,881</td>\n",
       "      <td>No</td>\n",
       "      <td>$0</td>\n",
       "      <td>z_No</td>\n",
       "      <td>...</td>\n",
       "      <td>Van</td>\n",
       "      <td>yes</td>\n",
       "      <td>$0</td>\n",
       "      <td>0</td>\n",
       "      <td>No</td>\n",
       "      <td>2</td>\n",
       "      <td>$0</td>\n",
       "      <td>10.0</td>\n",
       "      <td>0</td>\n",
       "      <td>Highly Urban/ Urban</td>\n",
       "    </tr>\n",
       "    <tr>\n",
       "      <th>3</th>\n",
       "      <td>727598473</td>\n",
       "      <td>0</td>\n",
       "      <td>05MAR64</td>\n",
       "      <td>35.0</td>\n",
       "      <td>1</td>\n",
       "      <td>10.0</td>\n",
       "      <td>$16,039</td>\n",
       "      <td>No</td>\n",
       "      <td>$124,191</td>\n",
       "      <td>Yes</td>\n",
       "      <td>...</td>\n",
       "      <td>z_SUV</td>\n",
       "      <td>no</td>\n",
       "      <td>$38,690</td>\n",
       "      <td>2</td>\n",
       "      <td>No</td>\n",
       "      <td>3</td>\n",
       "      <td>$0</td>\n",
       "      <td>10.0</td>\n",
       "      <td>0</td>\n",
       "      <td>Highly Urban/ Urban</td>\n",
       "    </tr>\n",
       "    <tr>\n",
       "      <th>4</th>\n",
       "      <td>450221861</td>\n",
       "      <td>0</td>\n",
       "      <td>05JUN48</td>\n",
       "      <td>51.0</td>\n",
       "      <td>0</td>\n",
       "      <td>14.0</td>\n",
       "      <td>NaN</td>\n",
       "      <td>No</td>\n",
       "      <td>$306,251</td>\n",
       "      <td>Yes</td>\n",
       "      <td>...</td>\n",
       "      <td>Minivan</td>\n",
       "      <td>yes</td>\n",
       "      <td>$0</td>\n",
       "      <td>0</td>\n",
       "      <td>No</td>\n",
       "      <td>0</td>\n",
       "      <td>$0</td>\n",
       "      <td>6.0</td>\n",
       "      <td>0</td>\n",
       "      <td>Highly Urban/ Urban</td>\n",
       "    </tr>\n",
       "  </tbody>\n",
       "</table>\n",
       "<p>5 rows × 27 columns</p>\n",
       "</div>"
      ],
      "text/plain": [
       "          ID  KIDSDRIV    BIRTH   AGE  HOMEKIDS   YOJ   INCOME PARENT1  \\\n",
       "0   63581743         0  16MAR39  60.0         0  11.0  $67,349      No   \n",
       "1  132761049         0  21JAN56  43.0         0  11.0  $91,449      No   \n",
       "2  921317019         0  18NOV51  48.0         0  11.0  $52,881      No   \n",
       "3  727598473         0  05MAR64  35.0         1  10.0  $16,039      No   \n",
       "4  450221861         0  05JUN48  51.0         0  14.0      NaN      No   \n",
       "\n",
       "   HOME_VAL MSTATUS  ... CAR_TYPE RED_CAR OLDCLAIM  CLM_FREQ REVOKED MVR_PTS  \\\n",
       "0        $0    z_No  ...  Minivan     yes   $4,461         2      No       3   \n",
       "1  $257,252    z_No  ...  Minivan     yes       $0         0      No       0   \n",
       "2        $0    z_No  ...      Van     yes       $0         0      No       2   \n",
       "3  $124,191     Yes  ...    z_SUV      no  $38,690         2      No       3   \n",
       "4  $306,251     Yes  ...  Minivan     yes       $0         0      No       0   \n",
       "\n",
       "   CLM_AMT CAR_AGE CLAIM_FLAG           URBANICITY  \n",
       "0       $0    18.0          0  Highly Urban/ Urban  \n",
       "1       $0     1.0          0  Highly Urban/ Urban  \n",
       "2       $0    10.0          0  Highly Urban/ Urban  \n",
       "3       $0    10.0          0  Highly Urban/ Urban  \n",
       "4       $0     6.0          0  Highly Urban/ Urban  \n",
       "\n",
       "[5 rows x 27 columns]"
      ]
     },
     "execution_count": 3,
     "metadata": {},
     "output_type": "execute_result"
    }
   ],
   "source": [
    "# Load the dataset\n",
    "df = pd.read_csv('dataset3.csv')\n",
    "df.head()"
   ]
  },
  {
   "cell_type": "code",
   "execution_count": 4,
   "id": "fcca57b8-508d-4d22-885b-a880f1f6f269",
   "metadata": {},
   "outputs": [
    {
     "data": {
      "text/plain": [
       "ID              0\n",
       "KIDSDRIV        0\n",
       "BIRTH           0\n",
       "AGE             7\n",
       "HOMEKIDS        0\n",
       "YOJ           548\n",
       "INCOME        570\n",
       "PARENT1         0\n",
       "HOME_VAL      575\n",
       "MSTATUS         0\n",
       "GENDER          0\n",
       "EDUCATION       0\n",
       "OCCUPATION    665\n",
       "TRAVTIME        0\n",
       "CAR_USE         0\n",
       "BLUEBOOK        0\n",
       "TIF             0\n",
       "CAR_TYPE        0\n",
       "RED_CAR         0\n",
       "OLDCLAIM        0\n",
       "CLM_FREQ        0\n",
       "REVOKED         0\n",
       "MVR_PTS         0\n",
       "CLM_AMT         0\n",
       "CAR_AGE       639\n",
       "CLAIM_FLAG      0\n",
       "URBANICITY      0\n",
       "dtype: int64"
      ]
     },
     "execution_count": 4,
     "metadata": {},
     "output_type": "execute_result"
    }
   ],
   "source": [
    "# Check for missing values in the dataset\n",
    "df.isna().sum()"
   ]
  },
  {
   "cell_type": "markdown",
   "id": "ac46b411-ec79-4dd3-af35-58456ab95a21",
   "metadata": {},
   "source": [
    "## CLEAN THE DATASET"
   ]
  },
  {
   "cell_type": "code",
   "execution_count": 6,
   "id": "d7f81e9f-b278-4fa2-b873-eb6a6df7ddb3",
   "metadata": {},
   "outputs": [
    {
     "name": "stdout",
     "output_type": "stream",
     "text": [
      "ID              int64\n",
      "KIDSDRIV        int64\n",
      "BIRTH          object\n",
      "AGE           float64\n",
      "HOMEKIDS        int64\n",
      "YOJ           float64\n",
      "INCOME        float64\n",
      "PARENT1        object\n",
      "HOME_VAL      float64\n",
      "MSTATUS        object\n",
      "GENDER         object\n",
      "EDUCATION      object\n",
      "OCCUPATION     object\n",
      "TRAVTIME        int64\n",
      "CAR_USE        object\n",
      "BLUEBOOK      float64\n",
      "TIF             int64\n",
      "CAR_TYPE       object\n",
      "RED_CAR        object\n",
      "OLDCLAIM      float64\n",
      "CLM_FREQ        int64\n",
      "REVOKED        object\n",
      "MVR_PTS         int64\n",
      "CLM_AMT       float64\n",
      "CAR_AGE       float64\n",
      "CLAIM_FLAG      int64\n",
      "URBANICITY     object\n",
      "dtype: object\n"
     ]
    }
   ],
   "source": [
    "# Function to clean and convert columns to numeric\n",
    "def clean_numeric_column(df, column):\n",
    "    df[column] = df[column].replace(r'[\\$,]', '', regex=True).astype(float)\n",
    "\n",
    "# Columns to convert\n",
    "columns_to_convert = ['INCOME', 'HOME_VAL', 'BLUEBOOK', 'OLDCLAIM', 'CLM_AMT']\n",
    "\n",
    "for column in columns_to_convert:\n",
    "    clean_numeric_column(df, column)\n",
    "\n",
    "# After cleaning, confirm that data types are correct\n",
    "print(df.dtypes)"
   ]
  },
  {
   "cell_type": "code",
   "execution_count": 7,
   "id": "6ea52889-7db8-43e9-a044-09e79a4be5a1",
   "metadata": {},
   "outputs": [
    {
     "name": "stdout",
     "output_type": "stream",
     "text": [
      "Numerical columns: ['KIDSDRIV', 'AGE', 'HOMEKIDS', 'YOJ', 'TRAVTIME', 'TIF', 'MVR_PTS', 'INCOME', 'HOME_VAL', 'BLUEBOOK', 'CLM_AMT']\n",
      "Categorical columns: ['PARENT1', 'MSTATUS', 'GENDER', 'EDUCATION', 'CAR_USE', 'CAR_TYPE', 'RED_CAR', 'REVOKED', 'URBANICITY', 'OCCUPATION']\n"
     ]
    }
   ],
   "source": [
    "# Split into numerical and categorical columns\n",
    "numerical_columns = ['KIDSDRIV', 'AGE', 'HOMEKIDS', 'YOJ', 'TRAVTIME', 'TIF', 'MVR_PTS', 'INCOME', 'HOME_VAL', 'BLUEBOOK', 'CLM_AMT']\n",
    "categorical_columns = ['PARENT1', 'MSTATUS', 'GENDER', 'EDUCATION', 'CAR_USE', 'CAR_TYPE', 'RED_CAR', 'REVOKED', 'URBANICITY', 'OCCUPATION']\n",
    "\n",
    "# Filter out missing columns\n",
    "numerical_columns = [col for col in numerical_columns if col in df.columns]\n",
    "categorical_columns = [col for col in categorical_columns if col in df.columns]\n",
    "\n",
    "# Ensure the lists are correctly defined\n",
    "print(\"Numerical columns:\", numerical_columns)\n",
    "print(\"Categorical columns:\", categorical_columns)"
   ]
  },
  {
   "cell_type": "markdown",
   "id": "32e437e0-d04e-410a-82c3-91be521fad1f",
   "metadata": {},
   "source": [
    "## PREPARE THE DATASET"
   ]
  },
  {
   "cell_type": "code",
   "execution_count": 9,
   "id": "3fbf6b48-b11a-4f43-9eb1-e399fd9896e9",
   "metadata": {},
   "outputs": [],
   "source": [
    "#Select the relevant numerical and categorical features for imputation\n",
    "features_for_imputation = ['YOJ', 'INCOME', 'HOME_VAL', 'BLUEBOOK', 'AGE', 'PARENT1', \n",
    "                           'MSTATUS', 'GENDER', 'EDUCATION', 'CAR_USE', 'CAR_TYPE', \n",
    "                           'RED_CAR', 'REVOKED', 'URBANICITY', 'OCCUPATION', 'CAR_AGE']\n",
    "\n",
    "# Copy the relevant columns into a new DataFrame\n",
    "df_impute = df[features_for_imputation].copy()"
   ]
  },
  {
   "cell_type": "code",
   "execution_count": 10,
   "id": "281e1d3c-5b35-4793-beef-1cf9cf4e1c12",
   "metadata": {},
   "outputs": [],
   "source": [
    "# Encode categorical variables\n",
    "label_encoders = {}\n",
    "for col in ['PARENT1', 'MSTATUS', 'GENDER', 'EDUCATION', 'CAR_USE', \n",
    "            'CAR_TYPE', 'RED_CAR', 'REVOKED', 'URBANICITY', 'OCCUPATION']:\n",
    "    le = LabelEncoder()\n",
    "    df_impute[col] = le.fit_transform(df_impute[col].astype(str))\n",
    "    label_encoders[col] = le"
   ]
  },
  {
   "cell_type": "markdown",
   "id": "f47fdf4b-893c-4b8d-9445-b7aca780fe84",
   "metadata": {},
   "source": [
    "## TRAIN KNN MODEL"
   ]
  },
  {
   "cell_type": "code",
   "execution_count": 12,
   "id": "52605412-e17a-4a83-9af7-7bf2db45a656",
   "metadata": {},
   "outputs": [],
   "source": [
    "# Initialize the KNN imputer\n",
    "knn_imputer = KNNImputer(n_neighbors=5)"
   ]
  },
  {
   "cell_type": "code",
   "execution_count": 13,
   "id": "53e9db2a-599c-4245-960c-c95b56b7e91d",
   "metadata": {},
   "outputs": [],
   "source": [
    "# Apply KNN imputation to the data\n",
    "df_imputed = knn_imputer.fit_transform(df_impute)"
   ]
  },
  {
   "cell_type": "markdown",
   "id": "c109121d-21fe-47ac-8634-06dab9dc8246",
   "metadata": {},
   "source": [
    "## IMPUTE AGE COLUMN"
   ]
  },
  {
   "cell_type": "code",
   "execution_count": 15,
   "id": "397903da-55d7-4c95-918a-0a0d92b00622",
   "metadata": {},
   "outputs": [],
   "source": [
    "# Replace the original AGE column in the original DataFrame with the imputed values\n",
    "df['AGE'] = df_imputed[:, 0]"
   ]
  },
  {
   "cell_type": "code",
   "execution_count": 16,
   "id": "da79d648-9e3f-48ee-bb74-5c76d91e752f",
   "metadata": {},
   "outputs": [
    {
     "name": "stdout",
     "output_type": "stream",
     "text": [
      "0\n"
     ]
    }
   ],
   "source": [
    "# Check if missing values are imputed\n",
    "print(df['AGE'].isnull().sum())"
   ]
  },
  {
   "cell_type": "markdown",
   "id": "ba2e2408-a1be-442e-98fc-6f9f86046f14",
   "metadata": {},
   "source": [
    "## IMPUTE YOJ COLUMN"
   ]
  },
  {
   "cell_type": "code",
   "execution_count": 18,
   "id": "583f8894-1672-4e9c-8b12-10d6961d8175",
   "metadata": {},
   "outputs": [],
   "source": [
    "# Split into complete and missing data\n",
    "df_complete_YOJ = df[df['YOJ'].notnull()].copy()\n",
    "df_missing_YOJ = df[df['YOJ'].isnull()].copy()\n",
    "\n",
    "# Separate the target variable from features\n",
    "y_complete_YOJ = df_complete_YOJ['YOJ']\n",
    "X_complete_YOJ = df_complete_YOJ.drop(columns=['YOJ'])\n",
    "X_missing_YOJ = df_missing_YOJ.drop(columns=['YOJ'])\n",
    "\n",
    "# Filter out columns not in X_complete\n",
    "numerical_columns_YOJ = [col for col in numerical_columns if col in X_complete_YOJ.columns]\n",
    "categorical_columns_YOJ = [col for col in categorical_columns if col in X_complete_YOJ.columns]\n",
    "\n",
    "# Prepare the column transformer to handle categorical and numerical data\n",
    "preprocessor_YOJ = ColumnTransformer(\n",
    "    transformers=[\n",
    "        ('num', Pipeline(steps=[\n",
    "            ('imputer', SimpleImputer(strategy='mean')),\n",
    "            ('scaler', StandardScaler())\n",
    "        ]), numerical_columns_YOJ),\n",
    "        ('cat', Pipeline(steps=[\n",
    "            ('imputer', SimpleImputer(strategy='most_frequent')),\n",
    "            ('onehot', OneHotEncoder(handle_unknown='ignore'))\n",
    "        ]), categorical_columns_YOJ)\n",
    "    ]\n",
    ")\n",
    "\n",
    "# Define the pipeline with RandomForestRegressor\n",
    "pipeline_impute_YOJ = Pipeline(steps=[\n",
    "    ('preprocessor', preprocessor_YOJ),\n",
    "    ('regressor', RandomForestRegressor(n_estimators=100, random_state=42))\n",
    "])"
   ]
  },
  {
   "cell_type": "code",
   "execution_count": 19,
   "id": "22dd31d9-8201-4982-ac06-6dd7891768bf",
   "metadata": {},
   "outputs": [
    {
     "name": "stdout",
     "output_type": "stream",
     "text": [
      "Remaining missing values in 'YOJ': 0\n"
     ]
    }
   ],
   "source": [
    "# Define parameter grid for hyperparameter tuning\n",
    "param_grid_YOJ = {\n",
    "    'regressor__n_estimators': [50, 100, 200],\n",
    "    'regressor__max_depth': [None, 10, 20, 30]\n",
    "}\n",
    "\n",
    "# Perform GridSearchCV\n",
    "grid_search_YOJ = GridSearchCV(pipeline_impute_YOJ, param_grid_YOJ, cv=5, scoring='neg_mean_squared_error')\n",
    "grid_search_YOJ.fit(X_complete_YOJ, y_complete_YOJ)\n",
    "\n",
    "# Use the best model to predict missing values\n",
    "best_pipeline_YOJ = grid_search_YOJ.best_estimator_\n",
    "y_predicted_YOJ = best_pipeline_YOJ.predict(X_missing_YOJ)\n",
    "\n",
    "# Fill missing values\n",
    "df.loc[df['YOJ'].isnull(), 'YOJ'] = y_predicted_YOJ\n",
    "\n",
    "# Check if missing values are filled\n",
    "print(f\"Remaining missing values in 'YOJ': {df['YOJ'].isnull().sum()}\")"
   ]
  },
  {
   "cell_type": "markdown",
   "id": "5a74735b-b0be-42ce-9e49-0dc212aae67d",
   "metadata": {},
   "source": [
    "## IMPUTE INCOME COLUMN"
   ]
  },
  {
   "cell_type": "code",
   "execution_count": 21,
   "id": "0e88fcd4-5b77-4a54-8580-f0e8eea270bd",
   "metadata": {},
   "outputs": [],
   "source": [
    "# Replace the original INCOME column in the original DataFrame with the imputed values\n",
    "df['INCOME'] = df_imputed[:, 0]"
   ]
  },
  {
   "cell_type": "code",
   "execution_count": 22,
   "id": "a1949572-a386-4b08-a22d-30b5c0e57041",
   "metadata": {},
   "outputs": [
    {
     "name": "stdout",
     "output_type": "stream",
     "text": [
      "0\n"
     ]
    }
   ],
   "source": [
    "# Check if missing values are imputed\n",
    "print(df['INCOME'].isnull().sum())"
   ]
  },
  {
   "cell_type": "markdown",
   "id": "1acdbb3f-7b04-4238-a5e4-2f0e4cb55ab8",
   "metadata": {},
   "source": [
    "## IMPUTE HOME_VAL COLUMN"
   ]
  },
  {
   "cell_type": "code",
   "execution_count": 24,
   "id": "aada4288-ec76-474f-bc9e-ddf142b2e053",
   "metadata": {},
   "outputs": [],
   "source": [
    "# Replace the original HOME_VAL column in the original DataFrame with the imputed values\n",
    "df['HOME_VAL'] = df_imputed[:, 0]"
   ]
  },
  {
   "cell_type": "code",
   "execution_count": 25,
   "id": "a10b4057-051c-4b6c-8190-992e84752a33",
   "metadata": {},
   "outputs": [
    {
     "name": "stdout",
     "output_type": "stream",
     "text": [
      "0\n"
     ]
    }
   ],
   "source": [
    "# Check if missing values are imputed\n",
    "print(df['HOME_VAL'].isnull().sum())"
   ]
  },
  {
   "cell_type": "markdown",
   "id": "2ebf5d35-39e5-4c40-8f9b-c897394fcd68",
   "metadata": {},
   "source": [
    "## IMPUTE OCCUPTATION COLUMN"
   ]
  },
  {
   "cell_type": "code",
   "execution_count": 27,
   "id": "2d818d97-2f40-4b1c-aecb-bd99c267bd86",
   "metadata": {},
   "outputs": [],
   "source": [
    "# Split the data into rows with known and unknown 'OCCUPATION'\n",
    "train_data_OCCUPATION = df_impute[df['OCCUPATION'].notnull()]\n",
    "test_data_OCCUPATION = df_impute[df['OCCUPATION'].isnull()]\n",
    "\n",
    "# Ensure there are rows in X_test for prediction\n",
    "if test_data_OCCUPATION.empty:\n",
    "    print(\"No missing 'OCCUPATION' values to predict.\")\n",
    "else:\n",
    "    # Select features for training (drop 'OCCUPATION' only from features)\n",
    "    X_train_OCCUPATION = train_data_OCCUPATION.drop(['OCCUPATION'], axis=1)\n",
    "    y_train_OCCUPATION = train_data_OCCUPATION['OCCUPATION']\n",
    "\n",
    "    X_test_OCCUPATION = test_data_OCCUPATION.drop(['OCCUPATION'], axis=1)\n",
    "\n",
    "    # Impute missing values (use 'most_frequent' for categorical, 'mean' for numerical)\n",
    "    imputer_OCCUPATION = SimpleImputer(strategy='most_frequent')\n",
    "    X_train_OCCUPATION = pd.DataFrame(imputer_OCCUPATION.fit_transform(X_train_OCCUPATION), columns=X_train_OCCUPATION.columns)\n",
    "    X_test_OCCUPATION = pd.DataFrame(imputer_OCCUPATION.transform(X_test_OCCUPATION), columns=X_test_OCCUPATION.columns)\n",
    "\n",
    "    # Handle Class Imbalance with SMOTE\n",
    "    smote_OCCUPATION = SMOTE(random_state=42)\n",
    "    X_train_resampled_OCCUPATION, y_train_resampled_OCCUPATION = smote_OCCUPATION.fit_resample(X_train_OCCUPATION, y_train_OCCUPATION)\n"
   ]
  },
  {
   "cell_type": "code",
   "execution_count": 28,
   "id": "1766b209-ac0a-42de-a643-e90f8a351e7b",
   "metadata": {},
   "outputs": [],
   "source": [
    "# Hyperparameter tuning using RandomizedSearchCV\n",
    "param_grid_OCCUPATION = {\n",
    "    'n_estimators': [100, 200, 500],\n",
    "    'max_features': ['sqrt', 'log2', None],\n",
    "    'max_depth': [10, 20, 30, None],\n",
    "    'min_samples_split': [2, 5, 10],\n",
    "    'min_samples_leaf': [1, 2, 4],\n",
    "    'bootstrap': [True, False]\n",
    "}\n",
    "\n",
    "# Create a RandomForestClassifier with randomized search\n",
    "clf_OCCUPATION = RandomForestClassifier(random_state=42)\n",
    "random_search_OCCUPATION = RandomizedSearchCV(clf_OCCUPATION, param_distributions=param_grid_OCCUPATION, n_iter=10, cv=3, random_state=42, n_jobs=-1)\n",
    "random_search_OCCUPATION.fit(X_train_resampled_OCCUPATION, y_train_resampled_OCCUPATION)\n",
    "\n",
    " # Feature Selection based on importance\n",
    "selector_OCCUPATION = SelectFromModel(random_search_OCCUPATION.best_estimator_, threshold='median')\n",
    "X_train_selected_OCCUPATION = selector_OCCUPATION.fit_transform(X_train_resampled_OCCUPATION, y_train_resampled_OCCUPATION)\n",
    "X_test_selected_OCCUPATION = selector_OCCUPATION.transform(X_test_OCCUPATION)\n"
   ]
  },
  {
   "cell_type": "code",
   "execution_count": 29,
   "id": "d6989e09-c069-4c16-986a-119c8a64608b",
   "metadata": {},
   "outputs": [
    {
     "name": "stdout",
     "output_type": "stream",
     "text": [
      "0\n"
     ]
    }
   ],
   "source": [
    "# Train the best model on the selected features\n",
    "best_clf_OCCUPATION = random_search_OCCUPATION.best_estimator_\n",
    "best_clf_OCCUPATION.fit(X_train_selected_OCCUPATION, y_train_resampled_OCCUPATION)\n",
    "\n",
    "# Predict missing 'OCCUPATION' values for the test data\n",
    "predicted_occupation_encoded = best_clf_OCCUPATION.predict(X_test_selected_OCCUPATION)\n",
    "\n",
    "# Convert the predicted encoded values back to their original categorical values\n",
    "le_occupation = label_encoders['OCCUPATION']  # Retrieve the label encoder for 'OCCUPATION'\n",
    "predicted_occupation = le_occupation.inverse_transform(predicted_occupation_encoded)\n",
    "\n",
    "# Check if the number of predicted values matches the number of missing rows\n",
    "missing_indices = df[df['OCCUPATION'].isnull()].index\n",
    "\n",
    "if len(missing_indices) != len(predicted_occupation):\n",
    "    raise ValueError(f\"Length mismatch: {len(missing_indices)} missing values but {len(predicted_occupation)} predictions.\")\n",
    "\n",
    "# Replace the missing 'OCCUPATION' values in the original dataframe\n",
    "df.loc[missing_indices, 'OCCUPATION'] = predicted_occupation\n",
    "\n",
    "# Check if missing values are imputed\n",
    "print(df['OCCUPATION'].isnull().sum())"
   ]
  },
  {
   "cell_type": "markdown",
   "id": "465b9ea3-6ce4-490c-8f7b-050637a37eef",
   "metadata": {},
   "source": [
    "## IMPUTE CAR_AGE COLUMN"
   ]
  },
  {
   "cell_type": "code",
   "execution_count": 31,
   "id": "c81928fe-d85e-437a-8aaf-a29bc4ce08a6",
   "metadata": {},
   "outputs": [],
   "source": [
    "# Replace the original CAR_AGE column in the original DataFrame with the imputed values\n",
    "df['CAR_AGE'] = df_imputed[:, 0]"
   ]
  },
  {
   "cell_type": "code",
   "execution_count": 32,
   "id": "72ba319c-c619-4cfb-a98f-ae28eede6706",
   "metadata": {},
   "outputs": [
    {
     "name": "stdout",
     "output_type": "stream",
     "text": [
      "0\n"
     ]
    }
   ],
   "source": [
    "# Check if missing values are imputed\n",
    "print(df['CAR_AGE'].isnull().sum())"
   ]
  },
  {
   "cell_type": "markdown",
   "id": "19044e88-d674-4470-a107-99e6f82c2746",
   "metadata": {},
   "source": [
    "## IMPUTE CLM_AMT COLUMN"
   ]
  },
  {
   "cell_type": "code",
   "execution_count": 34,
   "id": "b3485d93-7de8-4d2f-9b7d-890cecb8e3b4",
   "metadata": {},
   "outputs": [],
   "source": [
    "# Split the data\n",
    "df_train_CLMAMT = df[df['CLM_AMT'] > 0].copy()\n",
    "df_predict_CLMAMT = df[df['CLM_AMT'] == 0].copy()\n",
    "\n",
    "# Define features (X) and target (y) for training\n",
    "X_train_CLMAMT = df_train_CLMAMT[numerical_columns + categorical_columns]  # Ensure columns used in features exist\n",
    "y_train_CLMAMT = df_train_CLMAMT['CLM_AMT']\n",
    "\n",
    "X_predict_CLMAMT = df_predict_CLMAMT[numerical_columns + categorical_columns]  # Ensure columns used in prediction exist"
   ]
  },
  {
   "cell_type": "code",
   "execution_count": 35,
   "id": "98d3c4cf-eadb-4d8f-bf1a-37e1e92e9469",
   "metadata": {},
   "outputs": [
    {
     "data": {
      "text/html": [
       "<style>#sk-container-id-1 {\n",
       "  /* Definition of color scheme common for light and dark mode */\n",
       "  --sklearn-color-text: black;\n",
       "  --sklearn-color-line: gray;\n",
       "  /* Definition of color scheme for unfitted estimators */\n",
       "  --sklearn-color-unfitted-level-0: #fff5e6;\n",
       "  --sklearn-color-unfitted-level-1: #f6e4d2;\n",
       "  --sklearn-color-unfitted-level-2: #ffe0b3;\n",
       "  --sklearn-color-unfitted-level-3: chocolate;\n",
       "  /* Definition of color scheme for fitted estimators */\n",
       "  --sklearn-color-fitted-level-0: #f0f8ff;\n",
       "  --sklearn-color-fitted-level-1: #d4ebff;\n",
       "  --sklearn-color-fitted-level-2: #b3dbfd;\n",
       "  --sklearn-color-fitted-level-3: cornflowerblue;\n",
       "\n",
       "  /* Specific color for light theme */\n",
       "  --sklearn-color-text-on-default-background: var(--sg-text-color, var(--theme-code-foreground, var(--jp-content-font-color1, black)));\n",
       "  --sklearn-color-background: var(--sg-background-color, var(--theme-background, var(--jp-layout-color0, white)));\n",
       "  --sklearn-color-border-box: var(--sg-text-color, var(--theme-code-foreground, var(--jp-content-font-color1, black)));\n",
       "  --sklearn-color-icon: #696969;\n",
       "\n",
       "  @media (prefers-color-scheme: dark) {\n",
       "    /* Redefinition of color scheme for dark theme */\n",
       "    --sklearn-color-text-on-default-background: var(--sg-text-color, var(--theme-code-foreground, var(--jp-content-font-color1, white)));\n",
       "    --sklearn-color-background: var(--sg-background-color, var(--theme-background, var(--jp-layout-color0, #111)));\n",
       "    --sklearn-color-border-box: var(--sg-text-color, var(--theme-code-foreground, var(--jp-content-font-color1, white)));\n",
       "    --sklearn-color-icon: #878787;\n",
       "  }\n",
       "}\n",
       "\n",
       "#sk-container-id-1 {\n",
       "  color: var(--sklearn-color-text);\n",
       "}\n",
       "\n",
       "#sk-container-id-1 pre {\n",
       "  padding: 0;\n",
       "}\n",
       "\n",
       "#sk-container-id-1 input.sk-hidden--visually {\n",
       "  border: 0;\n",
       "  clip: rect(1px 1px 1px 1px);\n",
       "  clip: rect(1px, 1px, 1px, 1px);\n",
       "  height: 1px;\n",
       "  margin: -1px;\n",
       "  overflow: hidden;\n",
       "  padding: 0;\n",
       "  position: absolute;\n",
       "  width: 1px;\n",
       "}\n",
       "\n",
       "#sk-container-id-1 div.sk-dashed-wrapped {\n",
       "  border: 1px dashed var(--sklearn-color-line);\n",
       "  margin: 0 0.4em 0.5em 0.4em;\n",
       "  box-sizing: border-box;\n",
       "  padding-bottom: 0.4em;\n",
       "  background-color: var(--sklearn-color-background);\n",
       "}\n",
       "\n",
       "#sk-container-id-1 div.sk-container {\n",
       "  /* jupyter's `normalize.less` sets `[hidden] { display: none; }`\n",
       "     but bootstrap.min.css set `[hidden] { display: none !important; }`\n",
       "     so we also need the `!important` here to be able to override the\n",
       "     default hidden behavior on the sphinx rendered scikit-learn.org.\n",
       "     See: https://github.com/scikit-learn/scikit-learn/issues/21755 */\n",
       "  display: inline-block !important;\n",
       "  position: relative;\n",
       "}\n",
       "\n",
       "#sk-container-id-1 div.sk-text-repr-fallback {\n",
       "  display: none;\n",
       "}\n",
       "\n",
       "div.sk-parallel-item,\n",
       "div.sk-serial,\n",
       "div.sk-item {\n",
       "  /* draw centered vertical line to link estimators */\n",
       "  background-image: linear-gradient(var(--sklearn-color-text-on-default-background), var(--sklearn-color-text-on-default-background));\n",
       "  background-size: 2px 100%;\n",
       "  background-repeat: no-repeat;\n",
       "  background-position: center center;\n",
       "}\n",
       "\n",
       "/* Parallel-specific style estimator block */\n",
       "\n",
       "#sk-container-id-1 div.sk-parallel-item::after {\n",
       "  content: \"\";\n",
       "  width: 100%;\n",
       "  border-bottom: 2px solid var(--sklearn-color-text-on-default-background);\n",
       "  flex-grow: 1;\n",
       "}\n",
       "\n",
       "#sk-container-id-1 div.sk-parallel {\n",
       "  display: flex;\n",
       "  align-items: stretch;\n",
       "  justify-content: center;\n",
       "  background-color: var(--sklearn-color-background);\n",
       "  position: relative;\n",
       "}\n",
       "\n",
       "#sk-container-id-1 div.sk-parallel-item {\n",
       "  display: flex;\n",
       "  flex-direction: column;\n",
       "}\n",
       "\n",
       "#sk-container-id-1 div.sk-parallel-item:first-child::after {\n",
       "  align-self: flex-end;\n",
       "  width: 50%;\n",
       "}\n",
       "\n",
       "#sk-container-id-1 div.sk-parallel-item:last-child::after {\n",
       "  align-self: flex-start;\n",
       "  width: 50%;\n",
       "}\n",
       "\n",
       "#sk-container-id-1 div.sk-parallel-item:only-child::after {\n",
       "  width: 0;\n",
       "}\n",
       "\n",
       "/* Serial-specific style estimator block */\n",
       "\n",
       "#sk-container-id-1 div.sk-serial {\n",
       "  display: flex;\n",
       "  flex-direction: column;\n",
       "  align-items: center;\n",
       "  background-color: var(--sklearn-color-background);\n",
       "  padding-right: 1em;\n",
       "  padding-left: 1em;\n",
       "}\n",
       "\n",
       "\n",
       "/* Toggleable style: style used for estimator/Pipeline/ColumnTransformer box that is\n",
       "clickable and can be expanded/collapsed.\n",
       "- Pipeline and ColumnTransformer use this feature and define the default style\n",
       "- Estimators will overwrite some part of the style using the `sk-estimator` class\n",
       "*/\n",
       "\n",
       "/* Pipeline and ColumnTransformer style (default) */\n",
       "\n",
       "#sk-container-id-1 div.sk-toggleable {\n",
       "  /* Default theme specific background. It is overwritten whether we have a\n",
       "  specific estimator or a Pipeline/ColumnTransformer */\n",
       "  background-color: var(--sklearn-color-background);\n",
       "}\n",
       "\n",
       "/* Toggleable label */\n",
       "#sk-container-id-1 label.sk-toggleable__label {\n",
       "  cursor: pointer;\n",
       "  display: block;\n",
       "  width: 100%;\n",
       "  margin-bottom: 0;\n",
       "  padding: 0.5em;\n",
       "  box-sizing: border-box;\n",
       "  text-align: center;\n",
       "}\n",
       "\n",
       "#sk-container-id-1 label.sk-toggleable__label-arrow:before {\n",
       "  /* Arrow on the left of the label */\n",
       "  content: \"▸\";\n",
       "  float: left;\n",
       "  margin-right: 0.25em;\n",
       "  color: var(--sklearn-color-icon);\n",
       "}\n",
       "\n",
       "#sk-container-id-1 label.sk-toggleable__label-arrow:hover:before {\n",
       "  color: var(--sklearn-color-text);\n",
       "}\n",
       "\n",
       "/* Toggleable content - dropdown */\n",
       "\n",
       "#sk-container-id-1 div.sk-toggleable__content {\n",
       "  max-height: 0;\n",
       "  max-width: 0;\n",
       "  overflow: hidden;\n",
       "  text-align: left;\n",
       "  /* unfitted */\n",
       "  background-color: var(--sklearn-color-unfitted-level-0);\n",
       "}\n",
       "\n",
       "#sk-container-id-1 div.sk-toggleable__content.fitted {\n",
       "  /* fitted */\n",
       "  background-color: var(--sklearn-color-fitted-level-0);\n",
       "}\n",
       "\n",
       "#sk-container-id-1 div.sk-toggleable__content pre {\n",
       "  margin: 0.2em;\n",
       "  border-radius: 0.25em;\n",
       "  color: var(--sklearn-color-text);\n",
       "  /* unfitted */\n",
       "  background-color: var(--sklearn-color-unfitted-level-0);\n",
       "}\n",
       "\n",
       "#sk-container-id-1 div.sk-toggleable__content.fitted pre {\n",
       "  /* unfitted */\n",
       "  background-color: var(--sklearn-color-fitted-level-0);\n",
       "}\n",
       "\n",
       "#sk-container-id-1 input.sk-toggleable__control:checked~div.sk-toggleable__content {\n",
       "  /* Expand drop-down */\n",
       "  max-height: 200px;\n",
       "  max-width: 100%;\n",
       "  overflow: auto;\n",
       "}\n",
       "\n",
       "#sk-container-id-1 input.sk-toggleable__control:checked~label.sk-toggleable__label-arrow:before {\n",
       "  content: \"▾\";\n",
       "}\n",
       "\n",
       "/* Pipeline/ColumnTransformer-specific style */\n",
       "\n",
       "#sk-container-id-1 div.sk-label input.sk-toggleable__control:checked~label.sk-toggleable__label {\n",
       "  color: var(--sklearn-color-text);\n",
       "  background-color: var(--sklearn-color-unfitted-level-2);\n",
       "}\n",
       "\n",
       "#sk-container-id-1 div.sk-label.fitted input.sk-toggleable__control:checked~label.sk-toggleable__label {\n",
       "  background-color: var(--sklearn-color-fitted-level-2);\n",
       "}\n",
       "\n",
       "/* Estimator-specific style */\n",
       "\n",
       "/* Colorize estimator box */\n",
       "#sk-container-id-1 div.sk-estimator input.sk-toggleable__control:checked~label.sk-toggleable__label {\n",
       "  /* unfitted */\n",
       "  background-color: var(--sklearn-color-unfitted-level-2);\n",
       "}\n",
       "\n",
       "#sk-container-id-1 div.sk-estimator.fitted input.sk-toggleable__control:checked~label.sk-toggleable__label {\n",
       "  /* fitted */\n",
       "  background-color: var(--sklearn-color-fitted-level-2);\n",
       "}\n",
       "\n",
       "#sk-container-id-1 div.sk-label label.sk-toggleable__label,\n",
       "#sk-container-id-1 div.sk-label label {\n",
       "  /* The background is the default theme color */\n",
       "  color: var(--sklearn-color-text-on-default-background);\n",
       "}\n",
       "\n",
       "/* On hover, darken the color of the background */\n",
       "#sk-container-id-1 div.sk-label:hover label.sk-toggleable__label {\n",
       "  color: var(--sklearn-color-text);\n",
       "  background-color: var(--sklearn-color-unfitted-level-2);\n",
       "}\n",
       "\n",
       "/* Label box, darken color on hover, fitted */\n",
       "#sk-container-id-1 div.sk-label.fitted:hover label.sk-toggleable__label.fitted {\n",
       "  color: var(--sklearn-color-text);\n",
       "  background-color: var(--sklearn-color-fitted-level-2);\n",
       "}\n",
       "\n",
       "/* Estimator label */\n",
       "\n",
       "#sk-container-id-1 div.sk-label label {\n",
       "  font-family: monospace;\n",
       "  font-weight: bold;\n",
       "  display: inline-block;\n",
       "  line-height: 1.2em;\n",
       "}\n",
       "\n",
       "#sk-container-id-1 div.sk-label-container {\n",
       "  text-align: center;\n",
       "}\n",
       "\n",
       "/* Estimator-specific */\n",
       "#sk-container-id-1 div.sk-estimator {\n",
       "  font-family: monospace;\n",
       "  border: 1px dotted var(--sklearn-color-border-box);\n",
       "  border-radius: 0.25em;\n",
       "  box-sizing: border-box;\n",
       "  margin-bottom: 0.5em;\n",
       "  /* unfitted */\n",
       "  background-color: var(--sklearn-color-unfitted-level-0);\n",
       "}\n",
       "\n",
       "#sk-container-id-1 div.sk-estimator.fitted {\n",
       "  /* fitted */\n",
       "  background-color: var(--sklearn-color-fitted-level-0);\n",
       "}\n",
       "\n",
       "/* on hover */\n",
       "#sk-container-id-1 div.sk-estimator:hover {\n",
       "  /* unfitted */\n",
       "  background-color: var(--sklearn-color-unfitted-level-2);\n",
       "}\n",
       "\n",
       "#sk-container-id-1 div.sk-estimator.fitted:hover {\n",
       "  /* fitted */\n",
       "  background-color: var(--sklearn-color-fitted-level-2);\n",
       "}\n",
       "\n",
       "/* Specification for estimator info (e.g. \"i\" and \"?\") */\n",
       "\n",
       "/* Common style for \"i\" and \"?\" */\n",
       "\n",
       ".sk-estimator-doc-link,\n",
       "a:link.sk-estimator-doc-link,\n",
       "a:visited.sk-estimator-doc-link {\n",
       "  float: right;\n",
       "  font-size: smaller;\n",
       "  line-height: 1em;\n",
       "  font-family: monospace;\n",
       "  background-color: var(--sklearn-color-background);\n",
       "  border-radius: 1em;\n",
       "  height: 1em;\n",
       "  width: 1em;\n",
       "  text-decoration: none !important;\n",
       "  margin-left: 1ex;\n",
       "  /* unfitted */\n",
       "  border: var(--sklearn-color-unfitted-level-1) 1pt solid;\n",
       "  color: var(--sklearn-color-unfitted-level-1);\n",
       "}\n",
       "\n",
       ".sk-estimator-doc-link.fitted,\n",
       "a:link.sk-estimator-doc-link.fitted,\n",
       "a:visited.sk-estimator-doc-link.fitted {\n",
       "  /* fitted */\n",
       "  border: var(--sklearn-color-fitted-level-1) 1pt solid;\n",
       "  color: var(--sklearn-color-fitted-level-1);\n",
       "}\n",
       "\n",
       "/* On hover */\n",
       "div.sk-estimator:hover .sk-estimator-doc-link:hover,\n",
       ".sk-estimator-doc-link:hover,\n",
       "div.sk-label-container:hover .sk-estimator-doc-link:hover,\n",
       ".sk-estimator-doc-link:hover {\n",
       "  /* unfitted */\n",
       "  background-color: var(--sklearn-color-unfitted-level-3);\n",
       "  color: var(--sklearn-color-background);\n",
       "  text-decoration: none;\n",
       "}\n",
       "\n",
       "div.sk-estimator.fitted:hover .sk-estimator-doc-link.fitted:hover,\n",
       ".sk-estimator-doc-link.fitted:hover,\n",
       "div.sk-label-container:hover .sk-estimator-doc-link.fitted:hover,\n",
       ".sk-estimator-doc-link.fitted:hover {\n",
       "  /* fitted */\n",
       "  background-color: var(--sklearn-color-fitted-level-3);\n",
       "  color: var(--sklearn-color-background);\n",
       "  text-decoration: none;\n",
       "}\n",
       "\n",
       "/* Span, style for the box shown on hovering the info icon */\n",
       ".sk-estimator-doc-link span {\n",
       "  display: none;\n",
       "  z-index: 9999;\n",
       "  position: relative;\n",
       "  font-weight: normal;\n",
       "  right: .2ex;\n",
       "  padding: .5ex;\n",
       "  margin: .5ex;\n",
       "  width: min-content;\n",
       "  min-width: 20ex;\n",
       "  max-width: 50ex;\n",
       "  color: var(--sklearn-color-text);\n",
       "  box-shadow: 2pt 2pt 4pt #999;\n",
       "  /* unfitted */\n",
       "  background: var(--sklearn-color-unfitted-level-0);\n",
       "  border: .5pt solid var(--sklearn-color-unfitted-level-3);\n",
       "}\n",
       "\n",
       ".sk-estimator-doc-link.fitted span {\n",
       "  /* fitted */\n",
       "  background: var(--sklearn-color-fitted-level-0);\n",
       "  border: var(--sklearn-color-fitted-level-3);\n",
       "}\n",
       "\n",
       ".sk-estimator-doc-link:hover span {\n",
       "  display: block;\n",
       "}\n",
       "\n",
       "/* \"?\"-specific style due to the `<a>` HTML tag */\n",
       "\n",
       "#sk-container-id-1 a.estimator_doc_link {\n",
       "  float: right;\n",
       "  font-size: 1rem;\n",
       "  line-height: 1em;\n",
       "  font-family: monospace;\n",
       "  background-color: var(--sklearn-color-background);\n",
       "  border-radius: 1rem;\n",
       "  height: 1rem;\n",
       "  width: 1rem;\n",
       "  text-decoration: none;\n",
       "  /* unfitted */\n",
       "  color: var(--sklearn-color-unfitted-level-1);\n",
       "  border: var(--sklearn-color-unfitted-level-1) 1pt solid;\n",
       "}\n",
       "\n",
       "#sk-container-id-1 a.estimator_doc_link.fitted {\n",
       "  /* fitted */\n",
       "  border: var(--sklearn-color-fitted-level-1) 1pt solid;\n",
       "  color: var(--sklearn-color-fitted-level-1);\n",
       "}\n",
       "\n",
       "/* On hover */\n",
       "#sk-container-id-1 a.estimator_doc_link:hover {\n",
       "  /* unfitted */\n",
       "  background-color: var(--sklearn-color-unfitted-level-3);\n",
       "  color: var(--sklearn-color-background);\n",
       "  text-decoration: none;\n",
       "}\n",
       "\n",
       "#sk-container-id-1 a.estimator_doc_link.fitted:hover {\n",
       "  /* fitted */\n",
       "  background-color: var(--sklearn-color-fitted-level-3);\n",
       "}\n",
       "</style><div id=\"sk-container-id-1\" class=\"sk-top-container\"><div class=\"sk-text-repr-fallback\"><pre>Pipeline(steps=[(&#x27;preprocessor&#x27;,\n",
       "                 ColumnTransformer(transformers=[(&#x27;num&#x27;,\n",
       "                                                  Pipeline(steps=[(&#x27;imputer&#x27;,\n",
       "                                                                   SimpleImputer()),\n",
       "                                                                  (&#x27;scaler&#x27;,\n",
       "                                                                   StandardScaler())]),\n",
       "                                                  [&#x27;KIDSDRIV&#x27;, &#x27;AGE&#x27;,\n",
       "                                                   &#x27;HOMEKIDS&#x27;, &#x27;YOJ&#x27;,\n",
       "                                                   &#x27;TRAVTIME&#x27;, &#x27;TIF&#x27;, &#x27;MVR_PTS&#x27;,\n",
       "                                                   &#x27;INCOME&#x27;, &#x27;HOME_VAL&#x27;,\n",
       "                                                   &#x27;BLUEBOOK&#x27;, &#x27;CLM_AMT&#x27;]),\n",
       "                                                 (&#x27;cat&#x27;,\n",
       "                                                  Pipeline(steps=[(&#x27;imputer&#x27;,\n",
       "                                                                   SimpleImputer(strategy=&#x27;most_frequent&#x27;)),\n",
       "                                                                  (&#x27;onehot&#x27;,\n",
       "                                                                   OneHotEncoder(handle_unknown=&#x27;ignore&#x27;))]),\n",
       "                                                  [&#x27;PARENT1&#x27;, &#x27;MSTATUS&#x27;,\n",
       "                                                   &#x27;GENDER&#x27;, &#x27;EDUCATION&#x27;,\n",
       "                                                   &#x27;CAR_USE&#x27;, &#x27;CAR_TYPE&#x27;,\n",
       "                                                   &#x27;RED_CAR&#x27;, &#x27;REVOKED&#x27;,\n",
       "                                                   &#x27;URBANICITY&#x27;,\n",
       "                                                   &#x27;OCCUPATION&#x27;])])),\n",
       "                (&#x27;regressor&#x27;, RandomForestRegressor(random_state=42))])</pre><b>In a Jupyter environment, please rerun this cell to show the HTML representation or trust the notebook. <br />On GitHub, the HTML representation is unable to render, please try loading this page with nbviewer.org.</b></div><div class=\"sk-container\" hidden><div class=\"sk-item sk-dashed-wrapped\"><div class=\"sk-label-container\"><div class=\"sk-label fitted sk-toggleable\"><input class=\"sk-toggleable__control sk-hidden--visually\" id=\"sk-estimator-id-1\" type=\"checkbox\" ><label for=\"sk-estimator-id-1\" class=\"sk-toggleable__label fitted sk-toggleable__label-arrow fitted\">&nbsp;&nbsp;Pipeline<a class=\"sk-estimator-doc-link fitted\" rel=\"noreferrer\" target=\"_blank\" href=\"https://scikit-learn.org/1.4/modules/generated/sklearn.pipeline.Pipeline.html\">?<span>Documentation for Pipeline</span></a><span class=\"sk-estimator-doc-link fitted\">i<span>Fitted</span></span></label><div class=\"sk-toggleable__content fitted\"><pre>Pipeline(steps=[(&#x27;preprocessor&#x27;,\n",
       "                 ColumnTransformer(transformers=[(&#x27;num&#x27;,\n",
       "                                                  Pipeline(steps=[(&#x27;imputer&#x27;,\n",
       "                                                                   SimpleImputer()),\n",
       "                                                                  (&#x27;scaler&#x27;,\n",
       "                                                                   StandardScaler())]),\n",
       "                                                  [&#x27;KIDSDRIV&#x27;, &#x27;AGE&#x27;,\n",
       "                                                   &#x27;HOMEKIDS&#x27;, &#x27;YOJ&#x27;,\n",
       "                                                   &#x27;TRAVTIME&#x27;, &#x27;TIF&#x27;, &#x27;MVR_PTS&#x27;,\n",
       "                                                   &#x27;INCOME&#x27;, &#x27;HOME_VAL&#x27;,\n",
       "                                                   &#x27;BLUEBOOK&#x27;, &#x27;CLM_AMT&#x27;]),\n",
       "                                                 (&#x27;cat&#x27;,\n",
       "                                                  Pipeline(steps=[(&#x27;imputer&#x27;,\n",
       "                                                                   SimpleImputer(strategy=&#x27;most_frequent&#x27;)),\n",
       "                                                                  (&#x27;onehot&#x27;,\n",
       "                                                                   OneHotEncoder(handle_unknown=&#x27;ignore&#x27;))]),\n",
       "                                                  [&#x27;PARENT1&#x27;, &#x27;MSTATUS&#x27;,\n",
       "                                                   &#x27;GENDER&#x27;, &#x27;EDUCATION&#x27;,\n",
       "                                                   &#x27;CAR_USE&#x27;, &#x27;CAR_TYPE&#x27;,\n",
       "                                                   &#x27;RED_CAR&#x27;, &#x27;REVOKED&#x27;,\n",
       "                                                   &#x27;URBANICITY&#x27;,\n",
       "                                                   &#x27;OCCUPATION&#x27;])])),\n",
       "                (&#x27;regressor&#x27;, RandomForestRegressor(random_state=42))])</pre></div> </div></div><div class=\"sk-serial\"><div class=\"sk-item sk-dashed-wrapped\"><div class=\"sk-label-container\"><div class=\"sk-label fitted sk-toggleable\"><input class=\"sk-toggleable__control sk-hidden--visually\" id=\"sk-estimator-id-2\" type=\"checkbox\" ><label for=\"sk-estimator-id-2\" class=\"sk-toggleable__label fitted sk-toggleable__label-arrow fitted\">&nbsp;preprocessor: ColumnTransformer<a class=\"sk-estimator-doc-link fitted\" rel=\"noreferrer\" target=\"_blank\" href=\"https://scikit-learn.org/1.4/modules/generated/sklearn.compose.ColumnTransformer.html\">?<span>Documentation for preprocessor: ColumnTransformer</span></a></label><div class=\"sk-toggleable__content fitted\"><pre>ColumnTransformer(transformers=[(&#x27;num&#x27;,\n",
       "                                 Pipeline(steps=[(&#x27;imputer&#x27;, SimpleImputer()),\n",
       "                                                 (&#x27;scaler&#x27;, StandardScaler())]),\n",
       "                                 [&#x27;KIDSDRIV&#x27;, &#x27;AGE&#x27;, &#x27;HOMEKIDS&#x27;, &#x27;YOJ&#x27;,\n",
       "                                  &#x27;TRAVTIME&#x27;, &#x27;TIF&#x27;, &#x27;MVR_PTS&#x27;, &#x27;INCOME&#x27;,\n",
       "                                  &#x27;HOME_VAL&#x27;, &#x27;BLUEBOOK&#x27;, &#x27;CLM_AMT&#x27;]),\n",
       "                                (&#x27;cat&#x27;,\n",
       "                                 Pipeline(steps=[(&#x27;imputer&#x27;,\n",
       "                                                  SimpleImputer(strategy=&#x27;most_frequent&#x27;)),\n",
       "                                                 (&#x27;onehot&#x27;,\n",
       "                                                  OneHotEncoder(handle_unknown=&#x27;ignore&#x27;))]),\n",
       "                                 [&#x27;PARENT1&#x27;, &#x27;MSTATUS&#x27;, &#x27;GENDER&#x27;, &#x27;EDUCATION&#x27;,\n",
       "                                  &#x27;CAR_USE&#x27;, &#x27;CAR_TYPE&#x27;, &#x27;RED_CAR&#x27;, &#x27;REVOKED&#x27;,\n",
       "                                  &#x27;URBANICITY&#x27;, &#x27;OCCUPATION&#x27;])])</pre></div> </div></div><div class=\"sk-parallel\"><div class=\"sk-parallel-item\"><div class=\"sk-item\"><div class=\"sk-label-container\"><div class=\"sk-label fitted sk-toggleable\"><input class=\"sk-toggleable__control sk-hidden--visually\" id=\"sk-estimator-id-3\" type=\"checkbox\" ><label for=\"sk-estimator-id-3\" class=\"sk-toggleable__label fitted sk-toggleable__label-arrow fitted\">num</label><div class=\"sk-toggleable__content fitted\"><pre>[&#x27;KIDSDRIV&#x27;, &#x27;AGE&#x27;, &#x27;HOMEKIDS&#x27;, &#x27;YOJ&#x27;, &#x27;TRAVTIME&#x27;, &#x27;TIF&#x27;, &#x27;MVR_PTS&#x27;, &#x27;INCOME&#x27;, &#x27;HOME_VAL&#x27;, &#x27;BLUEBOOK&#x27;, &#x27;CLM_AMT&#x27;]</pre></div> </div></div><div class=\"sk-serial\"><div class=\"sk-item\"><div class=\"sk-serial\"><div class=\"sk-item\"><div class=\"sk-estimator fitted sk-toggleable\"><input class=\"sk-toggleable__control sk-hidden--visually\" id=\"sk-estimator-id-4\" type=\"checkbox\" ><label for=\"sk-estimator-id-4\" class=\"sk-toggleable__label fitted sk-toggleable__label-arrow fitted\">&nbsp;SimpleImputer<a class=\"sk-estimator-doc-link fitted\" rel=\"noreferrer\" target=\"_blank\" href=\"https://scikit-learn.org/1.4/modules/generated/sklearn.impute.SimpleImputer.html\">?<span>Documentation for SimpleImputer</span></a></label><div class=\"sk-toggleable__content fitted\"><pre>SimpleImputer()</pre></div> </div></div><div class=\"sk-item\"><div class=\"sk-estimator fitted sk-toggleable\"><input class=\"sk-toggleable__control sk-hidden--visually\" id=\"sk-estimator-id-5\" type=\"checkbox\" ><label for=\"sk-estimator-id-5\" class=\"sk-toggleable__label fitted sk-toggleable__label-arrow fitted\">&nbsp;StandardScaler<a class=\"sk-estimator-doc-link fitted\" rel=\"noreferrer\" target=\"_blank\" href=\"https://scikit-learn.org/1.4/modules/generated/sklearn.preprocessing.StandardScaler.html\">?<span>Documentation for StandardScaler</span></a></label><div class=\"sk-toggleable__content fitted\"><pre>StandardScaler()</pre></div> </div></div></div></div></div></div></div><div class=\"sk-parallel-item\"><div class=\"sk-item\"><div class=\"sk-label-container\"><div class=\"sk-label fitted sk-toggleable\"><input class=\"sk-toggleable__control sk-hidden--visually\" id=\"sk-estimator-id-6\" type=\"checkbox\" ><label for=\"sk-estimator-id-6\" class=\"sk-toggleable__label fitted sk-toggleable__label-arrow fitted\">cat</label><div class=\"sk-toggleable__content fitted\"><pre>[&#x27;PARENT1&#x27;, &#x27;MSTATUS&#x27;, &#x27;GENDER&#x27;, &#x27;EDUCATION&#x27;, &#x27;CAR_USE&#x27;, &#x27;CAR_TYPE&#x27;, &#x27;RED_CAR&#x27;, &#x27;REVOKED&#x27;, &#x27;URBANICITY&#x27;, &#x27;OCCUPATION&#x27;]</pre></div> </div></div><div class=\"sk-serial\"><div class=\"sk-item\"><div class=\"sk-serial\"><div class=\"sk-item\"><div class=\"sk-estimator fitted sk-toggleable\"><input class=\"sk-toggleable__control sk-hidden--visually\" id=\"sk-estimator-id-7\" type=\"checkbox\" ><label for=\"sk-estimator-id-7\" class=\"sk-toggleable__label fitted sk-toggleable__label-arrow fitted\">&nbsp;SimpleImputer<a class=\"sk-estimator-doc-link fitted\" rel=\"noreferrer\" target=\"_blank\" href=\"https://scikit-learn.org/1.4/modules/generated/sklearn.impute.SimpleImputer.html\">?<span>Documentation for SimpleImputer</span></a></label><div class=\"sk-toggleable__content fitted\"><pre>SimpleImputer(strategy=&#x27;most_frequent&#x27;)</pre></div> </div></div><div class=\"sk-item\"><div class=\"sk-estimator fitted sk-toggleable\"><input class=\"sk-toggleable__control sk-hidden--visually\" id=\"sk-estimator-id-8\" type=\"checkbox\" ><label for=\"sk-estimator-id-8\" class=\"sk-toggleable__label fitted sk-toggleable__label-arrow fitted\">&nbsp;OneHotEncoder<a class=\"sk-estimator-doc-link fitted\" rel=\"noreferrer\" target=\"_blank\" href=\"https://scikit-learn.org/1.4/modules/generated/sklearn.preprocessing.OneHotEncoder.html\">?<span>Documentation for OneHotEncoder</span></a></label><div class=\"sk-toggleable__content fitted\"><pre>OneHotEncoder(handle_unknown=&#x27;ignore&#x27;)</pre></div> </div></div></div></div></div></div></div></div></div><div class=\"sk-item\"><div class=\"sk-estimator fitted sk-toggleable\"><input class=\"sk-toggleable__control sk-hidden--visually\" id=\"sk-estimator-id-9\" type=\"checkbox\" ><label for=\"sk-estimator-id-9\" class=\"sk-toggleable__label fitted sk-toggleable__label-arrow fitted\">&nbsp;RandomForestRegressor<a class=\"sk-estimator-doc-link fitted\" rel=\"noreferrer\" target=\"_blank\" href=\"https://scikit-learn.org/1.4/modules/generated/sklearn.ensemble.RandomForestRegressor.html\">?<span>Documentation for RandomForestRegressor</span></a></label><div class=\"sk-toggleable__content fitted\"><pre>RandomForestRegressor(random_state=42)</pre></div> </div></div></div></div></div></div>"
      ],
      "text/plain": [
       "Pipeline(steps=[('preprocessor',\n",
       "                 ColumnTransformer(transformers=[('num',\n",
       "                                                  Pipeline(steps=[('imputer',\n",
       "                                                                   SimpleImputer()),\n",
       "                                                                  ('scaler',\n",
       "                                                                   StandardScaler())]),\n",
       "                                                  ['KIDSDRIV', 'AGE',\n",
       "                                                   'HOMEKIDS', 'YOJ',\n",
       "                                                   'TRAVTIME', 'TIF', 'MVR_PTS',\n",
       "                                                   'INCOME', 'HOME_VAL',\n",
       "                                                   'BLUEBOOK', 'CLM_AMT']),\n",
       "                                                 ('cat',\n",
       "                                                  Pipeline(steps=[('imputer',\n",
       "                                                                   SimpleImputer(strategy='most_frequent')),\n",
       "                                                                  ('onehot',\n",
       "                                                                   OneHotEncoder(handle_unknown='ignore'))]),\n",
       "                                                  ['PARENT1', 'MSTATUS',\n",
       "                                                   'GENDER', 'EDUCATION',\n",
       "                                                   'CAR_USE', 'CAR_TYPE',\n",
       "                                                   'RED_CAR', 'REVOKED',\n",
       "                                                   'URBANICITY',\n",
       "                                                   'OCCUPATION'])])),\n",
       "                ('regressor', RandomForestRegressor(random_state=42))])"
      ]
     },
     "execution_count": 35,
     "metadata": {},
     "output_type": "execute_result"
    }
   ],
   "source": [
    "# Preprocessing\n",
    "preprocessor_CLMAMT = ColumnTransformer(\n",
    "    transformers=[\n",
    "        ('num', Pipeline(steps=[\n",
    "            ('imputer', SimpleImputer(strategy='mean')),\n",
    "            ('scaler', StandardScaler())\n",
    "        ]), numerical_columns),\n",
    "        \n",
    "        ('cat', Pipeline(steps=[\n",
    "            ('imputer', SimpleImputer(strategy='most_frequent')),\n",
    "            ('onehot', OneHotEncoder(handle_unknown='ignore'))\n",
    "        ]), categorical_columns)\n",
    "    ]\n",
    ")\n",
    "\n",
    "# Step 3: Create and fit the model pipeline\n",
    "model_pipeline_CLMAMT = Pipeline(steps=[\n",
    "    ('preprocessor', preprocessor_CLMAMT),\n",
    "    ('regressor', RandomForestRegressor(n_estimators=100, random_state=42))\n",
    "])\n",
    "\n",
    "# Fit the model on the training set\n",
    "model_pipeline_CLMAMT.fit(X_train_CLMAMT, y_train_CLMAMT)"
   ]
  },
  {
   "cell_type": "code",
   "execution_count": 36,
   "id": "e4ac0f7c-ff95-4d61-bd8a-cd435407999e",
   "metadata": {},
   "outputs": [
    {
     "name": "stdout",
     "output_type": "stream",
     "text": [
      "Number of $0 claim amounts after replacement: 0\n"
     ]
    }
   ],
   "source": [
    "# Predict CLM_AMT for rows where it was originally 0\n",
    "y_predicted_CLMAMT = model_pipeline_CLMAMT.predict(X_predict_CLMAMT)\n",
    "\n",
    "# Fill the $0 CLM_AMT values with the predicted values\n",
    "df.loc[df['CLM_AMT'] == 0, 'CLM_AMT'] = y_predicted_CLMAMT\n",
    "\n",
    "# Check that there are no more $0 values\n",
    "zero_claims_after = df[df['CLM_AMT'] == 0].shape[0]\n",
    "print(f\"Number of $0 claim amounts after replacement: {zero_claims_after}\")"
   ]
  },
  {
   "cell_type": "markdown",
   "id": "ec0a7b91-8a20-47da-9949-91b66d206db4",
   "metadata": {},
   "source": [
    "## MISSING COLUMNS IN THE DATASET"
   ]
  },
  {
   "cell_type": "code",
   "execution_count": 38,
   "id": "ff3c46e1-1a11-4ebb-a122-abfb5c194f3b",
   "metadata": {},
   "outputs": [
    {
     "data": {
      "text/plain": [
       "ID            0\n",
       "KIDSDRIV      0\n",
       "BIRTH         0\n",
       "AGE           0\n",
       "HOMEKIDS      0\n",
       "YOJ           0\n",
       "INCOME        0\n",
       "PARENT1       0\n",
       "HOME_VAL      0\n",
       "MSTATUS       0\n",
       "GENDER        0\n",
       "EDUCATION     0\n",
       "OCCUPATION    0\n",
       "TRAVTIME      0\n",
       "CAR_USE       0\n",
       "BLUEBOOK      0\n",
       "TIF           0\n",
       "CAR_TYPE      0\n",
       "RED_CAR       0\n",
       "OLDCLAIM      0\n",
       "CLM_FREQ      0\n",
       "REVOKED       0\n",
       "MVR_PTS       0\n",
       "CLM_AMT       0\n",
       "CAR_AGE       0\n",
       "CLAIM_FLAG    0\n",
       "URBANICITY    0\n",
       "dtype: int64"
      ]
     },
     "execution_count": 38,
     "metadata": {},
     "output_type": "execute_result"
    }
   ],
   "source": [
    "# Check for missing values in the dataset\n",
    "df.isna().sum()"
   ]
  },
  {
   "cell_type": "markdown",
   "id": "a96568b2-5d2f-4931-872c-a77e4321feaf",
   "metadata": {},
   "source": [
    "## STANDARDISE THE DATASET"
   ]
  },
  {
   "cell_type": "code",
   "execution_count": 40,
   "id": "b3384541-badc-4ad0-8d96-c38a8cec16dc",
   "metadata": {},
   "outputs": [],
   "source": [
    "#Convert 'MALE' to 0 and 'FEMALE' to 1\n",
    "\n",
    "df['GENDER'] = df['GENDER'].map({'M': 0, 'z_F': 1})"
   ]
  },
  {
   "cell_type": "code",
   "execution_count": 41,
   "id": "5d2e4633",
   "metadata": {},
   "outputs": [
    {
     "name": "stdout",
     "output_type": "stream",
     "text": [
      "0     0\n",
      "1     0\n",
      "2     0\n",
      "3     1\n",
      "4     0\n",
      "5     1\n",
      "6     1\n",
      "7     1\n",
      "8     0\n",
      "9     1\n",
      "10    0\n",
      "11    1\n",
      "12    0\n",
      "13    1\n",
      "14    1\n",
      "15    0\n",
      "16    0\n",
      "17    0\n",
      "18    1\n",
      "19    1\n",
      "Name: GENDER, dtype: int64\n"
     ]
    }
   ],
   "source": [
    "print(df['GENDER'].head(20))"
   ]
  },
  {
   "cell_type": "code",
   "execution_count": 42,
   "id": "811a7712-89e1-4912-82e0-b87547cb2fc2",
   "metadata": {},
   "outputs": [
    {
     "name": "stdout",
     "output_type": "stream",
     "text": [
      " Education Standarised\n"
     ]
    }
   ],
   "source": [
    "#Mapping of existing values to standardized values\n",
    "education_mapping = {\n",
    "    'z_High School': 'High School',\n",
    "    'PhD': 'PhD',\n",
    "    'Bachelors': 'Bachelor',\n",
    "    '<High School': 'High School',\n",
    "    'Masters': 'Masters',\n",
    "}\n",
    "\n",
    "#Replace the values in the EDUCATION column (L)\n",
    "df['EDUCATION'] = df['EDUCATION'].replace(education_mapping) \n",
    "print (\" Education Standarised\")"
   ]
  },
  {
   "cell_type": "code",
   "execution_count": 43,
   "id": "41bfd1d8",
   "metadata": {},
   "outputs": [
    {
     "name": "stdout",
     "output_type": "stream",
     "text": [
      "0             PhD\n",
      "1     High School\n",
      "2        Bachelor\n",
      "3     High School\n",
      "4     High School\n",
      "5             PhD\n",
      "6        Bachelor\n",
      "7     High School\n",
      "8     High School\n",
      "9     High School\n",
      "10       Bachelor\n",
      "11       Bachelor\n",
      "12       Bachelor\n",
      "13        Masters\n",
      "14        Masters\n",
      "15       Bachelor\n",
      "16            PhD\n",
      "17    High School\n",
      "18    High School\n",
      "19       Bachelor\n",
      "Name: EDUCATION, dtype: object\n"
     ]
    }
   ],
   "source": [
    "print(df['EDUCATION'].head(20))"
   ]
  },
  {
   "cell_type": "code",
   "execution_count": 44,
   "id": "2da95291-9c41-4512-9163-853ed9a14947",
   "metadata": {},
   "outputs": [
    {
     "name": "stdout",
     "output_type": "stream",
     "text": [
      "Names standardized\n",
      "0     Professional\n",
      "1      Blue Collar\n",
      "2          Manager\n",
      "3         Clerical\n",
      "4      Blue Collar\n",
      "5           Doctor\n",
      "6      Blue Collar\n",
      "7      Blue Collar\n",
      "8          Manager\n",
      "9      Blue Collar\n",
      "10     Blue Collar\n",
      "11        Clerical\n",
      "12    Professional\n",
      "13          Lawyer\n",
      "14    Professional\n",
      "15         Manager\n",
      "16         Manager\n",
      "17        Clerical\n",
      "18      Home Maker\n",
      "19        Clerical\n",
      "Name: OCCUPATION, dtype: object\n"
     ]
    }
   ],
   "source": [
    "# Strip leading/trailing whitespace and standardize to title case\n",
    "df['OCCUPATION'] = df['OCCUPATION'].str.strip().str.title()\n",
    "\n",
    "# Replace specific values with the standardized terms\n",
    "df['OCCUPATION'] = df['OCCUPATION'].replace({\n",
    "    'Z_Blue Collar': 'Blue Collar',\n",
    "    'Manager': 'Manager',  # Remove leading space from ' Manager'\n",
    "    'Professional': 'Professional',\n",
    "    'Clerical': 'Clerical',\n",
    "    'Doctor': 'Doctor'\n",
    "})\n",
    "\n",
    "print(\"Names standardized\")\n",
    "print(df['OCCUPATION'].head(20))"
   ]
  },
  {
   "cell_type": "markdown",
   "id": "b4cd1802",
   "metadata": {},
   "source": [
    "## Drop Irrelevant columns"
   ]
  },
  {
   "cell_type": "code",
   "execution_count": 46,
   "id": "6732a0d7",
   "metadata": {},
   "outputs": [],
   "source": [
    "columns_to_drop = ['ID', 'KIDSDRIV', 'BIRTH', 'HOMEKIDS', 'YOJ', 'INCOME', 'PARENT1', 'HOME_VAL', \n",
    "                   'MSTATUS', 'GENDER', 'OCCUPATION', 'TRAVTIME', 'CAR_USE', 'BLUEBOOK', 'TIF', \n",
    "                   'CAR_TYPE', 'RED_CAR', 'OLDCLAIM', 'CLM_FREQ', 'MVR_PTS', 'CLAIM_FLAG', 'URBANICITY']"
   ]
  },
  {
   "cell_type": "code",
   "execution_count": 47,
   "id": "3ca610c1-95d9-4220-bcc4-aa594c4c69bc",
   "metadata": {},
   "outputs": [],
   "source": [
    "# Drop the columns from the dataframe\n",
    "df = df.drop(columns=columns_to_drop)"
   ]
  },
  {
   "cell_type": "code",
   "execution_count": 48,
   "id": "0d29ad8d-8322-4388-9c98-0bd65f908bf9",
   "metadata": {},
   "outputs": [
    {
     "name": "stdout",
     "output_type": "stream",
     "text": [
      "    AGE    EDUCATION REVOKED  CLM_AMT  CAR_AGE\n",
      "0  11.0          PhD      No    91.65     11.0\n",
      "1  11.0  High School      No    83.07     11.0\n",
      "2  11.0     Bachelor      No    87.05     11.0\n",
      "3  10.0  High School      No   100.65     10.0\n",
      "4  14.0  High School      No    80.45     14.0\n"
     ]
    }
   ],
   "source": [
    "# Verify if the columns are dropped\n",
    "print(df.head())"
   ]
  },
  {
   "cell_type": "markdown",
   "id": "864c36c4-fd60-4baf-b028-a1398e8ca984",
   "metadata": {},
   "source": [
    "## ENRICHING"
   ]
  },
  {
   "cell_type": "code",
   "execution_count": 86,
   "id": "9e4313e9-cb27-4564-99cd-6c68178a41b4",
   "metadata": {},
   "outputs": [],
   "source": [
    "# Rename the 'REVOKED' column to 'FRAUD'\n",
    "df.rename(columns={'REVOKED': 'FRAUD'}, inplace=True)"
   ]
  },
  {
   "cell_type": "code",
   "execution_count": 88,
   "id": "d416f77a-e433-4fd3-b6cc-137269aa651d",
   "metadata": {},
   "outputs": [
    {
     "name": "stdout",
     "output_type": "stream",
     "text": [
      "   FRAUD\n",
      "0      0\n",
      "1      0\n",
      "2      0\n",
      "3      0\n",
      "4      0\n"
     ]
    }
   ],
   "source": [
    "# Convert 'yes' to 1 and 'no' to 0 in the 'FRAUD' column, accounting for case and stripping spaces\n",
    "df['FRAUD'] = df['FRAUD'].str.strip().str.lower().map({'yes': 1, 'no': 0})\n",
    "\n",
    "# Verify the changes\n",
    "print(df[['FRAUD']].head())"
   ]
  },
  {
   "cell_type": "code",
   "execution_count": 90,
   "id": "08ccb76e-e326-4e63-8fe9-3be19bb4ee84",
   "metadata": {},
   "outputs": [
    {
     "name": "stdout",
     "output_type": "stream",
     "text": [
      "    AGE    EDUCATION  FRAUD  CLM_AMT  CAR_AGE\n",
      "0  11.0          PhD      0    91.65     11.0\n",
      "1  11.0  High School      0    83.07     11.0\n",
      "2  11.0     Bachelor      0    87.05     11.0\n",
      "3  10.0  High School      0   100.65     10.0\n",
      "4  14.0  High School      0    80.45     14.0\n"
     ]
    }
   ],
   "source": [
    "# Verify final columns\n",
    "print(df.head())"
   ]
  },
  {
   "cell_type": "markdown",
   "id": "a1723c17-ebb3-4b81-a57e-5c7fb75a75ca",
   "metadata": {},
   "source": [
    "## FINAL DATASET"
   ]
  },
  {
   "cell_type": "code",
   "execution_count": 88,
   "id": "072eb148-5737-470b-8d70-73715967752c",
   "metadata": {},
   "outputs": [],
   "source": [
    "# Save the imputed dataset to a CSV file\n",
    "df.to_csv('clean_dataset3_.csv', index=False)"
   ]
  },
  {
   "cell_type": "code",
   "execution_count": null,
   "id": "e92ae899",
   "metadata": {},
   "outputs": [],
   "source": []
  }
 ],
 "metadata": {
  "kernelspec": {
   "display_name": "Python 3 (ipykernel)",
   "language": "python",
   "name": "python3"
  },
  "language_info": {
   "codemirror_mode": {
    "name": "ipython",
    "version": 3
   },
   "file_extension": ".py",
   "mimetype": "text/x-python",
   "name": "python",
   "nbconvert_exporter": "python",
   "pygments_lexer": "ipython3",
   "version": "3.10.11"
  }
 },
 "nbformat": 4,
 "nbformat_minor": 5
}
