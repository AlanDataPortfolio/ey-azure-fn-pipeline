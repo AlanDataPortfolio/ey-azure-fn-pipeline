{
 "cells": [
  {
   "cell_type": "markdown",
   "id": "b5e35ec9-7636-4f91-a411-298947de977a",
   "metadata": {},
   "source": [
    "# Cleaning Dataset 3 'YOJ' Column with KNN"
   ]
  },
  {
   "cell_type": "code",
   "execution_count": 2,
   "id": "483802f1-de49-44dd-b1d3-b31dacbfad5f",
   "metadata": {},
   "outputs": [],
   "source": [
    "# Import necessary libraries\n",
    "import pandas as pd\n",
    "import numpy as np\n",
    "from sklearn.svm import SVR\n",
    "from sklearn.impute import SimpleImputer\n",
    "from sklearn.pipeline import Pipeline\n",
    "from sklearn.preprocessing import StandardScaler, OneHotEncoder\n",
    "from sklearn.preprocessing import LabelEncoder\n",
    "from sklearn.impute import KNNImputer\n",
    "from sklearn.neighbors import KNeighborsRegressor\n",
    "from sklearn.compose import ColumnTransformer\n",
    "from sklearn.metrics import mean_squared_error, mean_absolute_error, r2_score"
   ]
  },
  {
   "cell_type": "markdown",
   "id": "31af2bd2-4a50-404f-8bb9-b21799fdbd08",
   "metadata": {},
   "source": [
    "## EXPLORE THE DATASET"
   ]
  },
  {
   "cell_type": "code",
   "execution_count": 4,
   "id": "825a1652-ab7e-4862-ba24-586abbbe60fc",
   "metadata": {},
   "outputs": [
    {
     "data": {
      "text/html": [
       "<div>\n",
       "<style scoped>\n",
       "    .dataframe tbody tr th:only-of-type {\n",
       "        vertical-align: middle;\n",
       "    }\n",
       "\n",
       "    .dataframe tbody tr th {\n",
       "        vertical-align: top;\n",
       "    }\n",
       "\n",
       "    .dataframe thead th {\n",
       "        text-align: right;\n",
       "    }\n",
       "</style>\n",
       "<table border=\"1\" class=\"dataframe\">\n",
       "  <thead>\n",
       "    <tr style=\"text-align: right;\">\n",
       "      <th></th>\n",
       "      <th>ID</th>\n",
       "      <th>KIDSDRIV</th>\n",
       "      <th>BIRTH</th>\n",
       "      <th>AGE</th>\n",
       "      <th>HOMEKIDS</th>\n",
       "      <th>YOJ</th>\n",
       "      <th>INCOME</th>\n",
       "      <th>PARENT1</th>\n",
       "      <th>HOME_VAL</th>\n",
       "      <th>MSTATUS</th>\n",
       "      <th>...</th>\n",
       "      <th>CAR_TYPE</th>\n",
       "      <th>RED_CAR</th>\n",
       "      <th>OLDCLAIM</th>\n",
       "      <th>CLM_FREQ</th>\n",
       "      <th>REVOKED</th>\n",
       "      <th>MVR_PTS</th>\n",
       "      <th>CLM_AMT</th>\n",
       "      <th>CAR_AGE</th>\n",
       "      <th>CLAIM_FLAG</th>\n",
       "      <th>URBANICITY</th>\n",
       "    </tr>\n",
       "  </thead>\n",
       "  <tbody>\n",
       "    <tr>\n",
       "      <th>0</th>\n",
       "      <td>63581743</td>\n",
       "      <td>0</td>\n",
       "      <td>16MAR39</td>\n",
       "      <td>60.0</td>\n",
       "      <td>0</td>\n",
       "      <td>11.0</td>\n",
       "      <td>$67,349</td>\n",
       "      <td>No</td>\n",
       "      <td>$0</td>\n",
       "      <td>z_No</td>\n",
       "      <td>...</td>\n",
       "      <td>Minivan</td>\n",
       "      <td>yes</td>\n",
       "      <td>$4,461</td>\n",
       "      <td>2</td>\n",
       "      <td>No</td>\n",
       "      <td>3</td>\n",
       "      <td>$0</td>\n",
       "      <td>18.0</td>\n",
       "      <td>0</td>\n",
       "      <td>Highly Urban/ Urban</td>\n",
       "    </tr>\n",
       "    <tr>\n",
       "      <th>1</th>\n",
       "      <td>132761049</td>\n",
       "      <td>0</td>\n",
       "      <td>21JAN56</td>\n",
       "      <td>43.0</td>\n",
       "      <td>0</td>\n",
       "      <td>11.0</td>\n",
       "      <td>$91,449</td>\n",
       "      <td>No</td>\n",
       "      <td>$257,252</td>\n",
       "      <td>z_No</td>\n",
       "      <td>...</td>\n",
       "      <td>Minivan</td>\n",
       "      <td>yes</td>\n",
       "      <td>$0</td>\n",
       "      <td>0</td>\n",
       "      <td>No</td>\n",
       "      <td>0</td>\n",
       "      <td>$0</td>\n",
       "      <td>1.0</td>\n",
       "      <td>0</td>\n",
       "      <td>Highly Urban/ Urban</td>\n",
       "    </tr>\n",
       "    <tr>\n",
       "      <th>2</th>\n",
       "      <td>921317019</td>\n",
       "      <td>0</td>\n",
       "      <td>18NOV51</td>\n",
       "      <td>48.0</td>\n",
       "      <td>0</td>\n",
       "      <td>11.0</td>\n",
       "      <td>$52,881</td>\n",
       "      <td>No</td>\n",
       "      <td>$0</td>\n",
       "      <td>z_No</td>\n",
       "      <td>...</td>\n",
       "      <td>Van</td>\n",
       "      <td>yes</td>\n",
       "      <td>$0</td>\n",
       "      <td>0</td>\n",
       "      <td>No</td>\n",
       "      <td>2</td>\n",
       "      <td>$0</td>\n",
       "      <td>10.0</td>\n",
       "      <td>0</td>\n",
       "      <td>Highly Urban/ Urban</td>\n",
       "    </tr>\n",
       "    <tr>\n",
       "      <th>3</th>\n",
       "      <td>727598473</td>\n",
       "      <td>0</td>\n",
       "      <td>05MAR64</td>\n",
       "      <td>35.0</td>\n",
       "      <td>1</td>\n",
       "      <td>10.0</td>\n",
       "      <td>$16,039</td>\n",
       "      <td>No</td>\n",
       "      <td>$124,191</td>\n",
       "      <td>Yes</td>\n",
       "      <td>...</td>\n",
       "      <td>z_SUV</td>\n",
       "      <td>no</td>\n",
       "      <td>$38,690</td>\n",
       "      <td>2</td>\n",
       "      <td>No</td>\n",
       "      <td>3</td>\n",
       "      <td>$0</td>\n",
       "      <td>10.0</td>\n",
       "      <td>0</td>\n",
       "      <td>Highly Urban/ Urban</td>\n",
       "    </tr>\n",
       "    <tr>\n",
       "      <th>4</th>\n",
       "      <td>450221861</td>\n",
       "      <td>0</td>\n",
       "      <td>05JUN48</td>\n",
       "      <td>51.0</td>\n",
       "      <td>0</td>\n",
       "      <td>14.0</td>\n",
       "      <td>NaN</td>\n",
       "      <td>No</td>\n",
       "      <td>$306,251</td>\n",
       "      <td>Yes</td>\n",
       "      <td>...</td>\n",
       "      <td>Minivan</td>\n",
       "      <td>yes</td>\n",
       "      <td>$0</td>\n",
       "      <td>0</td>\n",
       "      <td>No</td>\n",
       "      <td>0</td>\n",
       "      <td>$0</td>\n",
       "      <td>6.0</td>\n",
       "      <td>0</td>\n",
       "      <td>Highly Urban/ Urban</td>\n",
       "    </tr>\n",
       "  </tbody>\n",
       "</table>\n",
       "<p>5 rows × 27 columns</p>\n",
       "</div>"
      ],
      "text/plain": [
       "          ID  KIDSDRIV    BIRTH   AGE  HOMEKIDS   YOJ   INCOME PARENT1  \\\n",
       "0   63581743         0  16MAR39  60.0         0  11.0  $67,349      No   \n",
       "1  132761049         0  21JAN56  43.0         0  11.0  $91,449      No   \n",
       "2  921317019         0  18NOV51  48.0         0  11.0  $52,881      No   \n",
       "3  727598473         0  05MAR64  35.0         1  10.0  $16,039      No   \n",
       "4  450221861         0  05JUN48  51.0         0  14.0      NaN      No   \n",
       "\n",
       "   HOME_VAL MSTATUS  ... CAR_TYPE RED_CAR OLDCLAIM  CLM_FREQ REVOKED MVR_PTS  \\\n",
       "0        $0    z_No  ...  Minivan     yes   $4,461         2      No       3   \n",
       "1  $257,252    z_No  ...  Minivan     yes       $0         0      No       0   \n",
       "2        $0    z_No  ...      Van     yes       $0         0      No       2   \n",
       "3  $124,191     Yes  ...    z_SUV      no  $38,690         2      No       3   \n",
       "4  $306,251     Yes  ...  Minivan     yes       $0         0      No       0   \n",
       "\n",
       "   CLM_AMT CAR_AGE CLAIM_FLAG           URBANICITY  \n",
       "0       $0    18.0          0  Highly Urban/ Urban  \n",
       "1       $0     1.0          0  Highly Urban/ Urban  \n",
       "2       $0    10.0          0  Highly Urban/ Urban  \n",
       "3       $0    10.0          0  Highly Urban/ Urban  \n",
       "4       $0     6.0          0  Highly Urban/ Urban  \n",
       "\n",
       "[5 rows x 27 columns]"
      ]
     },
     "execution_count": 4,
     "metadata": {},
     "output_type": "execute_result"
    }
   ],
   "source": [
    "# Load the dataset\n",
    "df = pd.read_csv('dataset3.csv')\n",
    "df.head()"
   ]
  },
  {
   "cell_type": "code",
   "execution_count": 5,
   "id": "147f1ea5-b662-4b13-b0af-2625906cc87d",
   "metadata": {},
   "outputs": [
    {
     "name": "stdout",
     "output_type": "stream",
     "text": [
      "Missing values in 'YOJ': 548\n"
     ]
    }
   ],
   "source": [
    "# Check for missing values in the 'CAR_AGE' column\n",
    "missing_values = df['YOJ'].isna().sum()\n",
    "print(f\"Missing values in 'YOJ': {missing_values}\")"
   ]
  },
  {
   "cell_type": "markdown",
   "id": "3b679556-bbf2-4811-b44d-5fa4e190de98",
   "metadata": {},
   "source": [
    "## CLEAN THE DATASET"
   ]
  },
  {
   "cell_type": "code",
   "execution_count": 7,
   "id": "ad49c28c-d5ed-46df-9c28-d50899750747",
   "metadata": {},
   "outputs": [
    {
     "name": "stdout",
     "output_type": "stream",
     "text": [
      "ID              int64\n",
      "KIDSDRIV        int64\n",
      "BIRTH          object\n",
      "AGE           float64\n",
      "HOMEKIDS        int64\n",
      "YOJ           float64\n",
      "INCOME        float64\n",
      "PARENT1        object\n",
      "HOME_VAL      float64\n",
      "MSTATUS        object\n",
      "GENDER         object\n",
      "EDUCATION      object\n",
      "OCCUPATION     object\n",
      "TRAVTIME        int64\n",
      "CAR_USE        object\n",
      "BLUEBOOK      float64\n",
      "TIF             int64\n",
      "CAR_TYPE       object\n",
      "RED_CAR        object\n",
      "OLDCLAIM      float64\n",
      "CLM_FREQ        int64\n",
      "REVOKED        object\n",
      "MVR_PTS         int64\n",
      "CLM_AMT       float64\n",
      "CAR_AGE       float64\n",
      "CLAIM_FLAG      int64\n",
      "URBANICITY     object\n",
      "dtype: object\n"
     ]
    }
   ],
   "source": [
    "# Function to clean and convert columns to numeric\n",
    "def clean_numeric_column(df, column):\n",
    "    df[column] = df[column].replace(r'[\\$,]', '', regex=True).astype(float)\n",
    "\n",
    "# Columns to convert\n",
    "columns_to_convert = ['INCOME', 'HOME_VAL', 'BLUEBOOK', 'OLDCLAIM', 'CLM_AMT']\n",
    "\n",
    "for column in columns_to_convert:\n",
    "    clean_numeric_column(df, column)\n",
    "\n",
    "# After cleaning, confirm that data types are correct\n",
    "print(df.dtypes)"
   ]
  },
  {
   "cell_type": "code",
   "execution_count": 8,
   "id": "b3007030-0cdc-4e5a-9d5e-b11f22935657",
   "metadata": {},
   "outputs": [
    {
     "name": "stdout",
     "output_type": "stream",
     "text": [
      "Numerical columns: ['KIDSDRIV', 'AGE', 'HOMEKIDS', 'YOJ', 'TRAVTIME', 'TIF', 'MVR_PTS', 'INCOME', 'HOME_VAL', 'BLUEBOOK', 'CLM_AMT']\n",
      "Categorical columns: ['PARENT1', 'MSTATUS', 'GENDER', 'EDUCATION', 'CAR_USE', 'CAR_TYPE', 'RED_CAR', 'REVOKED', 'URBANICITY', 'OCCUPATION']\n"
     ]
    }
   ],
   "source": [
    "# Split into numerical and categorical columns\n",
    "numerical_columns = ['KIDSDRIV', 'AGE', 'HOMEKIDS', 'YOJ', 'TRAVTIME', 'TIF', 'MVR_PTS', 'INCOME', 'HOME_VAL', 'BLUEBOOK', 'CLM_AMT']\n",
    "categorical_columns = ['PARENT1', 'MSTATUS', 'GENDER', 'EDUCATION', 'CAR_USE', 'CAR_TYPE', 'RED_CAR', 'REVOKED', 'URBANICITY', 'OCCUPATION']\n",
    "\n",
    "# Ensure the lists are correctly defined\n",
    "print(\"Numerical columns:\", numerical_columns)\n",
    "print(\"Categorical columns:\", categorical_columns)"
   ]
  },
  {
   "cell_type": "markdown",
   "id": "9871795f-2398-4473-8844-dd3b85c73d19",
   "metadata": {},
   "source": [
    "## CHECK FOR CORRELATIONS IN THE DATASET"
   ]
  },
  {
   "cell_type": "code",
   "execution_count": 10,
   "id": "3b6d9ba1-0eb9-4c37-8455-6318a111aed8",
   "metadata": {},
   "outputs": [
    {
     "name": "stdout",
     "output_type": "stream",
     "text": [
      "YOJ         1.000000\n",
      "INCOME      0.293899\n",
      "HOME_VAL    0.272198\n",
      "BLUEBOOK    0.148086\n",
      "AGE         0.140878\n",
      "HOMEKIDS    0.077707\n",
      "KIDSDRIV    0.042971\n",
      "TIF         0.023921\n",
      "TRAVTIME   -0.017152\n",
      "CLM_AMT    -0.026799\n",
      "MVR_PTS    -0.041593\n",
      "Name: YOJ, dtype: float64\n"
     ]
    }
   ],
   "source": [
    "correlation_matrix = df[numerical_columns].corr()\n",
    "\n",
    "# Print correlation values for YOJ\n",
    "print(correlation_matrix['YOJ'].sort_values(ascending=False))"
   ]
  },
  {
   "cell_type": "code",
   "execution_count": 11,
   "id": "dd19d0a8-2f28-49d2-8a4f-e1dd347a9971",
   "metadata": {},
   "outputs": [
    {
     "name": "stdout",
     "output_type": "stream",
     "text": [
      "PARENT1\n",
      "No     10.536421\n",
      "Yes    10.057480\n",
      "Name: YOJ, dtype: float64\n",
      "MSTATUS\n",
      "Yes     10.947549\n",
      "z_No     9.769388\n",
      "Name: YOJ, dtype: float64\n",
      "GENDER\n",
      "M      10.826097\n",
      "z_F    10.170802\n",
      "Name: YOJ, dtype: float64\n",
      "EDUCATION\n",
      "<High School     10.060924\n",
      "Bachelors        10.571482\n",
      "Masters          11.083802\n",
      "PhD              10.904387\n",
      "z_High School    10.032955\n",
      "Name: YOJ, dtype: float64\n",
      "CAR_USE\n",
      "Commercial    10.613523\n",
      "Private       10.392695\n",
      "Name: YOJ, dtype: float64\n",
      "CAR_TYPE\n",
      "Minivan        10.808101\n",
      "Panel Truck    11.102978\n",
      "Pickup         10.504728\n",
      "Sports Car      9.755814\n",
      "Van            11.002304\n",
      "z_SUV          10.083975\n",
      "Name: YOJ, dtype: float64\n",
      "RED_CAR\n",
      "no     10.337713\n",
      "yes    10.807992\n",
      "Name: YOJ, dtype: float64\n",
      "REVOKED\n",
      "No     10.489364\n",
      "Yes    10.364775\n",
      "Name: YOJ, dtype: float64\n",
      "URBANICITY\n",
      "Highly Urban/ Urban      10.636364\n",
      "z_Highly Rural/ Rural     9.826598\n",
      "Name: YOJ, dtype: float64\n",
      "OCCUPATION\n",
      "Clerical         11.446053\n",
      "Doctor           11.332248\n",
      "Home Maker        5.827715\n",
      "Lawyer           11.467975\n",
      "Manager          11.307047\n",
      "Professional     11.348289\n",
      "Student           6.080856\n",
      "z_Blue Collar    11.404402\n",
      "Name: YOJ, dtype: float64\n"
     ]
    }
   ],
   "source": [
    "print(df.groupby('PARENT1')['YOJ'].mean())\n",
    "\n",
    "print(df.groupby('MSTATUS')['YOJ'].mean())\n",
    "\n",
    "print(df.groupby('GENDER')['YOJ'].mean())\n",
    "\n",
    "print(df.groupby('EDUCATION')['YOJ'].mean())\n",
    "\n",
    "print(df.groupby('CAR_USE')['YOJ'].mean())\n",
    "\n",
    "print(df.groupby('CAR_TYPE')['YOJ'].mean())\n",
    "\n",
    "print(df.groupby('RED_CAR')['YOJ'].mean())\n",
    "\n",
    "print(df.groupby('REVOKED')['YOJ'].mean())\n",
    "\n",
    "print(df.groupby('URBANICITY')['YOJ'].mean())\n",
    "\n",
    "print(df.groupby('OCCUPATION')['YOJ'].mean())"
   ]
  },
  {
   "cell_type": "markdown",
   "id": "0821f84f-a9df-4f46-9139-331cc2c3ef91",
   "metadata": {},
   "source": [
    "## PREPARE THE DATASET FOR TRAINING "
   ]
  },
  {
   "cell_type": "code",
   "execution_count": 13,
   "id": "9ef73e4b-6978-4f87-b812-73145ae2fcd9",
   "metadata": {},
   "outputs": [],
   "source": [
    "#Select the relevant numerical and categorical features for imputation\n",
    "features_for_imputation = ['YOJ', 'INCOME', 'HOME_VAL', 'BLUEBOOK', 'AGE', 'PARENT1', \n",
    "                           'MSTATUS', 'GENDER', 'EDUCATION', 'CAR_USE', 'CAR_TYPE', \n",
    "                           'RED_CAR', 'REVOKED', 'URBANICITY', 'OCCUPATION']\n",
    "\n",
    "# Copy the relevant columns into a new DataFrame\n",
    "df_impute = df[features_for_imputation].copy()"
   ]
  },
  {
   "cell_type": "code",
   "execution_count": 14,
   "id": "8fbd9c6e-09b9-4744-a353-6e728c081e5e",
   "metadata": {},
   "outputs": [],
   "source": [
    "# Encode categorical variables\n",
    "label_encoders = {}\n",
    "for col in ['PARENT1', 'MSTATUS', 'GENDER', 'EDUCATION', 'CAR_USE', \n",
    "            'CAR_TYPE', 'RED_CAR', 'REVOKED', 'URBANICITY', 'OCCUPATION']:\n",
    "    le = LabelEncoder()\n",
    "    df_impute[col] = le.fit_transform(df_impute[col].astype(str))\n",
    "    label_encoders[col] = le"
   ]
  },
  {
   "cell_type": "markdown",
   "id": "8d5e24f4-76d2-4f82-871e-7baa4dfbc377",
   "metadata": {},
   "source": [
    "## TRAIN THE DATASET"
   ]
  },
  {
   "cell_type": "code",
   "execution_count": 16,
   "id": "b890fdd2-55fb-4f91-9eac-216c66cc86ed",
   "metadata": {},
   "outputs": [],
   "source": [
    "# Initialize the KNN imputer\n",
    "knn_imputer = KNNImputer(n_neighbors=5)"
   ]
  },
  {
   "cell_type": "code",
   "execution_count": 17,
   "id": "1a1030cf-0e42-4664-868a-3dd952560ea1",
   "metadata": {},
   "outputs": [],
   "source": [
    "# Apply KNN imputation to the data\n",
    "df_imputed = knn_imputer.fit_transform(df_impute)"
   ]
  },
  {
   "cell_type": "code",
   "execution_count": 18,
   "id": "77c95271-ff64-4a26-a6e6-d9e3622d7337",
   "metadata": {},
   "outputs": [],
   "source": [
    "# Replace the original YOJ column in the original DataFrame with the imputed values\n",
    "df['YOJ'] = df_imputed[:, 0]"
   ]
  },
  {
   "cell_type": "code",
   "execution_count": 19,
   "id": "289e4259-7acc-48a3-a402-76468d0c92f9",
   "metadata": {},
   "outputs": [
    {
     "name": "stdout",
     "output_type": "stream",
     "text": [
      "0\n"
     ]
    }
   ],
   "source": [
    "# Check if missing values are imputed\n",
    "print(df['YOJ'].isnull().sum())"
   ]
  },
  {
   "cell_type": "code",
   "execution_count": 20,
   "id": "10928136-221e-400e-a3da-d06be806a891",
   "metadata": {},
   "outputs": [],
   "source": [
    "# Save the imputed dataset to a CSV file\n",
    "df.to_csv('KNNimputed_ALL_dataset3.csv', index=False)"
   ]
  },
  {
   "cell_type": "markdown",
   "id": "5ef7e192-3bf6-4333-9617-1a2635b97718",
   "metadata": {},
   "source": [
    "## ACCURACY"
   ]
  },
  {
   "cell_type": "code",
   "execution_count": 22,
   "id": "72421d2c-4b42-4cc4-894a-21f23651cc86",
   "metadata": {},
   "outputs": [],
   "source": [
    "# Create a copy of the original data and introduce random missing values\n",
    "df_test = df.copy()\n",
    "\n",
    "# Define the fraction of data to randomly remove for testing (e.g., 20%)\n",
    "missing_fraction = 0.2\n",
    "np.random.seed(42)  # For reproducibility\n",
    "\n",
    "# Randomly select 20% of the non-missing YOJ values to be set as NaN for testing\n",
    "non_null_indices = df_test[df_test['YOJ'].notnull()].index\n",
    "test_indices = np.random.choice(non_null_indices, size=int(missing_fraction * len(non_null_indices)), replace=False)\n",
    "original_values = df_test.loc[test_indices, 'YOJ']  # Store the original values for comparison\n",
    "df_test.loc[test_indices, 'YOJ'] = np.nan  # Introduce missing values"
   ]
  },
  {
   "cell_type": "code",
   "execution_count": 23,
   "id": "d9299a93-ea71-481d-bceb-2655170f0788",
   "metadata": {},
   "outputs": [],
   "source": [
    "# Impute the missing values using KNN (reusing the previous code)\n",
    "# Make sure you use the same feature selection and encoding as before\n",
    "df_impute_test = df_test[features_for_imputation].copy()\n",
    "\n",
    "# Apply the label encoding for categorical features\n",
    "for col in ['PARENT1', 'MSTATUS', 'GENDER', 'EDUCATION', 'CAR_USE', \n",
    "            'CAR_TYPE', 'RED_CAR', 'REVOKED', 'URBANICITY', 'OCCUPATION']:\n",
    "    le = label_encoders[col]\n",
    "    df_impute_test[col] = le.transform(df_impute_test[col].astype(str))\n",
    "\n",
    "# Apply KNN imputer to the test data\n",
    "df_imputed_test = knn_imputer.fit_transform(df_impute_test)"
   ]
  },
  {
   "cell_type": "code",
   "execution_count": 24,
   "id": "99ebb43d-fa55-4ffd-b30c-ebf71fa83320",
   "metadata": {},
   "outputs": [],
   "source": [
    "# Compare the imputed values with the original values\n",
    "# Get the imputed YOJ values\n",
    "imputed_values = df_imputed_test[test_indices, 0]"
   ]
  },
  {
   "cell_type": "code",
   "execution_count": 25,
   "id": "42f592d6-8aa1-4477-8afa-10423c7bbea2",
   "metadata": {
    "scrolled": true
   },
   "outputs": [
    {
     "name": "stdout",
     "output_type": "stream",
     "text": [
      "Mean Squared Error for YOJ imputation: 11.745275339805826\n",
      "Mean Absolute Error for YOJ imputation: 2.598252427184466\n",
      "R-squared (R²): 0.26293669073644266\n"
     ]
    }
   ],
   "source": [
    "# Calculate the mean squared error (or any other metric) between original and imputed values\n",
    "mse = mean_squared_error(original_values, imputed_values)\n",
    "print(f'Mean Squared Error for YOJ imputation: {mse}')\n",
    "\n",
    "# Mean Absolute Error (MAE)\n",
    "mae = mean_absolute_error(original_values, imputed_values)\n",
    "print(f'Mean Absolute Error for YOJ imputation: {mae}')\n",
    "\n",
    "# R-squared (R²)\n",
    "r2 = r2_score(original_values, imputed_values)\n",
    "print(f'R-squared (R²): {r2}')"
   ]
  },
  {
   "cell_type": "markdown",
   "id": "0eb25690-340e-4b20-ba1f-12f93b17d34f",
   "metadata": {},
   "source": [
    "MSE of 11.745 suggests that, on average, the squared differences between the imputed and actual values are relatively moderate.                  \n",
    "MAE of 2.598 suggests that, on average, the imputed values are about 2.6 years off from the actual values.                     \n",
    "R² of 0.263 indicates that about 26.3% of the variance in YOJ is explained by the imputed values. This is relatively low, suggesting that the imputation model explains a **modest** portion of the variability in YOJ"
   ]
  },
  {
   "cell_type": "code",
   "execution_count": null,
   "id": "28e30f2e-a082-4d5e-bd30-fd3328bad760",
   "metadata": {},
   "outputs": [],
   "source": []
  }
 ],
 "metadata": {
  "kernelspec": {
   "display_name": "Python 3 (ipykernel)",
   "language": "python",
   "name": "python3"
  },
  "language_info": {
   "codemirror_mode": {
    "name": "ipython",
    "version": 3
   },
   "file_extension": ".py",
   "mimetype": "text/x-python",
   "name": "python",
   "nbconvert_exporter": "python",
   "pygments_lexer": "ipython3",
   "version": "3.12.4"
  }
 },
 "nbformat": 4,
 "nbformat_minor": 5
}
