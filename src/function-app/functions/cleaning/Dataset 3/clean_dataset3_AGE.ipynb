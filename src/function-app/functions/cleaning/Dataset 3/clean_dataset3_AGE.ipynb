{
 "cells": [
  {
   "cell_type": "markdown",
   "id": "6b95fb62-d3fd-4c48-911c-e3d24b80c31a",
   "metadata": {},
   "source": [
    "# Clean Dataset 3 'AGE' using KNN"
   ]
  },
  {
   "cell_type": "code",
   "execution_count": 3,
   "id": "483802f1-de49-44dd-b1d3-b31dacbfad5f",
   "metadata": {},
   "outputs": [],
   "source": [
    "# Import necessary libraries\n",
    "import pandas as pd\n",
    "import numpy as np\n",
    "from sklearn.svm import SVR\n",
    "from sklearn.impute import SimpleImputer\n",
    "from sklearn.pipeline import Pipeline\n",
    "from sklearn.preprocessing import StandardScaler, OneHotEncoder\n",
    "from sklearn.preprocessing import LabelEncoder\n",
    "from sklearn.impute import KNNImputer\n",
    "from sklearn.neighbors import KNeighborsRegressor\n",
    "from sklearn.compose import ColumnTransformer\n",
    "from sklearn.metrics import mean_squared_error, mean_absolute_error, r2_score"
   ]
  },
  {
   "cell_type": "markdown",
   "id": "5c84cf8c-6022-4a5f-a531-aaf69e4f18ea",
   "metadata": {},
   "source": [
    "## EXPLORE THE DATASET"
   ]
  },
  {
   "cell_type": "code",
   "execution_count": 4,
   "id": "825a1652-ab7e-4862-ba24-586abbbe60fc",
   "metadata": {},
   "outputs": [
    {
     "data": {
      "text/html": [
       "<div>\n",
       "<style scoped>\n",
       "    .dataframe tbody tr th:only-of-type {\n",
       "        vertical-align: middle;\n",
       "    }\n",
       "\n",
       "    .dataframe tbody tr th {\n",
       "        vertical-align: top;\n",
       "    }\n",
       "\n",
       "    .dataframe thead th {\n",
       "        text-align: right;\n",
       "    }\n",
       "</style>\n",
       "<table border=\"1\" class=\"dataframe\">\n",
       "  <thead>\n",
       "    <tr style=\"text-align: right;\">\n",
       "      <th></th>\n",
       "      <th>ID</th>\n",
       "      <th>KIDSDRIV</th>\n",
       "      <th>BIRTH</th>\n",
       "      <th>AGE</th>\n",
       "      <th>HOMEKIDS</th>\n",
       "      <th>YOJ</th>\n",
       "      <th>INCOME</th>\n",
       "      <th>PARENT1</th>\n",
       "      <th>HOME_VAL</th>\n",
       "      <th>MSTATUS</th>\n",
       "      <th>...</th>\n",
       "      <th>CAR_TYPE</th>\n",
       "      <th>RED_CAR</th>\n",
       "      <th>OLDCLAIM</th>\n",
       "      <th>CLM_FREQ</th>\n",
       "      <th>REVOKED</th>\n",
       "      <th>MVR_PTS</th>\n",
       "      <th>CLM_AMT</th>\n",
       "      <th>CAR_AGE</th>\n",
       "      <th>CLAIM_FLAG</th>\n",
       "      <th>URBANICITY</th>\n",
       "    </tr>\n",
       "  </thead>\n",
       "  <tbody>\n",
       "    <tr>\n",
       "      <th>0</th>\n",
       "      <td>63581743</td>\n",
       "      <td>0</td>\n",
       "      <td>16MAR39</td>\n",
       "      <td>60.0</td>\n",
       "      <td>0</td>\n",
       "      <td>11.0</td>\n",
       "      <td>$67,349</td>\n",
       "      <td>No</td>\n",
       "      <td>$0</td>\n",
       "      <td>z_No</td>\n",
       "      <td>...</td>\n",
       "      <td>Minivan</td>\n",
       "      <td>yes</td>\n",
       "      <td>$4,461</td>\n",
       "      <td>2</td>\n",
       "      <td>No</td>\n",
       "      <td>3</td>\n",
       "      <td>$0</td>\n",
       "      <td>18.0</td>\n",
       "      <td>0</td>\n",
       "      <td>Highly Urban/ Urban</td>\n",
       "    </tr>\n",
       "    <tr>\n",
       "      <th>1</th>\n",
       "      <td>132761049</td>\n",
       "      <td>0</td>\n",
       "      <td>21JAN56</td>\n",
       "      <td>43.0</td>\n",
       "      <td>0</td>\n",
       "      <td>11.0</td>\n",
       "      <td>$91,449</td>\n",
       "      <td>No</td>\n",
       "      <td>$257,252</td>\n",
       "      <td>z_No</td>\n",
       "      <td>...</td>\n",
       "      <td>Minivan</td>\n",
       "      <td>yes</td>\n",
       "      <td>$0</td>\n",
       "      <td>0</td>\n",
       "      <td>No</td>\n",
       "      <td>0</td>\n",
       "      <td>$0</td>\n",
       "      <td>1.0</td>\n",
       "      <td>0</td>\n",
       "      <td>Highly Urban/ Urban</td>\n",
       "    </tr>\n",
       "    <tr>\n",
       "      <th>2</th>\n",
       "      <td>921317019</td>\n",
       "      <td>0</td>\n",
       "      <td>18NOV51</td>\n",
       "      <td>48.0</td>\n",
       "      <td>0</td>\n",
       "      <td>11.0</td>\n",
       "      <td>$52,881</td>\n",
       "      <td>No</td>\n",
       "      <td>$0</td>\n",
       "      <td>z_No</td>\n",
       "      <td>...</td>\n",
       "      <td>Van</td>\n",
       "      <td>yes</td>\n",
       "      <td>$0</td>\n",
       "      <td>0</td>\n",
       "      <td>No</td>\n",
       "      <td>2</td>\n",
       "      <td>$0</td>\n",
       "      <td>10.0</td>\n",
       "      <td>0</td>\n",
       "      <td>Highly Urban/ Urban</td>\n",
       "    </tr>\n",
       "    <tr>\n",
       "      <th>3</th>\n",
       "      <td>727598473</td>\n",
       "      <td>0</td>\n",
       "      <td>05MAR64</td>\n",
       "      <td>35.0</td>\n",
       "      <td>1</td>\n",
       "      <td>10.0</td>\n",
       "      <td>$16,039</td>\n",
       "      <td>No</td>\n",
       "      <td>$124,191</td>\n",
       "      <td>Yes</td>\n",
       "      <td>...</td>\n",
       "      <td>z_SUV</td>\n",
       "      <td>no</td>\n",
       "      <td>$38,690</td>\n",
       "      <td>2</td>\n",
       "      <td>No</td>\n",
       "      <td>3</td>\n",
       "      <td>$0</td>\n",
       "      <td>10.0</td>\n",
       "      <td>0</td>\n",
       "      <td>Highly Urban/ Urban</td>\n",
       "    </tr>\n",
       "    <tr>\n",
       "      <th>4</th>\n",
       "      <td>450221861</td>\n",
       "      <td>0</td>\n",
       "      <td>05JUN48</td>\n",
       "      <td>51.0</td>\n",
       "      <td>0</td>\n",
       "      <td>14.0</td>\n",
       "      <td>NaN</td>\n",
       "      <td>No</td>\n",
       "      <td>$306,251</td>\n",
       "      <td>Yes</td>\n",
       "      <td>...</td>\n",
       "      <td>Minivan</td>\n",
       "      <td>yes</td>\n",
       "      <td>$0</td>\n",
       "      <td>0</td>\n",
       "      <td>No</td>\n",
       "      <td>0</td>\n",
       "      <td>$0</td>\n",
       "      <td>6.0</td>\n",
       "      <td>0</td>\n",
       "      <td>Highly Urban/ Urban</td>\n",
       "    </tr>\n",
       "  </tbody>\n",
       "</table>\n",
       "<p>5 rows × 27 columns</p>\n",
       "</div>"
      ],
      "text/plain": [
       "          ID  KIDSDRIV    BIRTH   AGE  HOMEKIDS   YOJ   INCOME PARENT1  \\\n",
       "0   63581743         0  16MAR39  60.0         0  11.0  $67,349      No   \n",
       "1  132761049         0  21JAN56  43.0         0  11.0  $91,449      No   \n",
       "2  921317019         0  18NOV51  48.0         0  11.0  $52,881      No   \n",
       "3  727598473         0  05MAR64  35.0         1  10.0  $16,039      No   \n",
       "4  450221861         0  05JUN48  51.0         0  14.0      NaN      No   \n",
       "\n",
       "   HOME_VAL MSTATUS  ... CAR_TYPE RED_CAR OLDCLAIM  CLM_FREQ REVOKED MVR_PTS  \\\n",
       "0        $0    z_No  ...  Minivan     yes   $4,461         2      No       3   \n",
       "1  $257,252    z_No  ...  Minivan     yes       $0         0      No       0   \n",
       "2        $0    z_No  ...      Van     yes       $0         0      No       2   \n",
       "3  $124,191     Yes  ...    z_SUV      no  $38,690         2      No       3   \n",
       "4  $306,251     Yes  ...  Minivan     yes       $0         0      No       0   \n",
       "\n",
       "   CLM_AMT CAR_AGE CLAIM_FLAG           URBANICITY  \n",
       "0       $0    18.0          0  Highly Urban/ Urban  \n",
       "1       $0     1.0          0  Highly Urban/ Urban  \n",
       "2       $0    10.0          0  Highly Urban/ Urban  \n",
       "3       $0    10.0          0  Highly Urban/ Urban  \n",
       "4       $0     6.0          0  Highly Urban/ Urban  \n",
       "\n",
       "[5 rows x 27 columns]"
      ]
     },
     "execution_count": 4,
     "metadata": {},
     "output_type": "execute_result"
    }
   ],
   "source": [
    "# Load the dataset\n",
    "df = pd.read_csv('dataset3.csv')\n",
    "df.head()"
   ]
  },
  {
   "cell_type": "code",
   "execution_count": 7,
   "id": "147f1ea5-b662-4b13-b0af-2625906cc87d",
   "metadata": {},
   "outputs": [
    {
     "name": "stdout",
     "output_type": "stream",
     "text": [
      "Missing values in 'CAR_AGE': 7\n"
     ]
    }
   ],
   "source": [
    "# Check for missing values in the 'AGE' column\n",
    "missing_values = df['AGE'].isna().sum()\n",
    "print(f\"Missing values in 'AGE': {missing_values}\")"
   ]
  },
  {
   "cell_type": "markdown",
   "id": "81a9237a-958e-45b3-83c6-55c22d806c6f",
   "metadata": {},
   "source": [
    "## CLEAN THE DATASET"
   ]
  },
  {
   "cell_type": "code",
   "execution_count": 9,
   "id": "ad49c28c-d5ed-46df-9c28-d50899750747",
   "metadata": {},
   "outputs": [
    {
     "name": "stdout",
     "output_type": "stream",
     "text": [
      "ID              int64\n",
      "KIDSDRIV        int64\n",
      "BIRTH          object\n",
      "AGE           float64\n",
      "HOMEKIDS        int64\n",
      "YOJ           float64\n",
      "INCOME        float64\n",
      "PARENT1        object\n",
      "HOME_VAL      float64\n",
      "MSTATUS        object\n",
      "GENDER         object\n",
      "EDUCATION      object\n",
      "OCCUPATION     object\n",
      "TRAVTIME        int64\n",
      "CAR_USE        object\n",
      "BLUEBOOK      float64\n",
      "TIF             int64\n",
      "CAR_TYPE       object\n",
      "RED_CAR        object\n",
      "OLDCLAIM      float64\n",
      "CLM_FREQ        int64\n",
      "REVOKED        object\n",
      "MVR_PTS         int64\n",
      "CLM_AMT       float64\n",
      "CAR_AGE       float64\n",
      "CLAIM_FLAG      int64\n",
      "URBANICITY     object\n",
      "dtype: object\n"
     ]
    }
   ],
   "source": [
    "# Function to clean and convert columns to numeric\n",
    "def clean_numeric_column(df, column):\n",
    "    df[column] = df[column].replace(r'[\\$,]', '', regex=True).astype(float)\n",
    "\n",
    "# Columns to convert\n",
    "columns_to_convert = ['INCOME', 'HOME_VAL', 'BLUEBOOK', 'OLDCLAIM', 'CLM_AMT']\n",
    "\n",
    "for column in columns_to_convert:\n",
    "    clean_numeric_column(df, column)\n",
    "\n",
    "# After cleaning, confirm that data types are correct\n",
    "print(df.dtypes)"
   ]
  },
  {
   "cell_type": "code",
   "execution_count": 11,
   "id": "b3007030-0cdc-4e5a-9d5e-b11f22935657",
   "metadata": {},
   "outputs": [
    {
     "name": "stdout",
     "output_type": "stream",
     "text": [
      "Numerical columns: ['KIDSDRIV', 'AGE', 'HOMEKIDS', 'YOJ', 'TRAVTIME', 'TIF', 'MVR_PTS', 'INCOME', 'HOME_VAL', 'BLUEBOOK', 'CLM_AMT', 'CAR_AGE']\n",
      "Categorical columns: ['PARENT1', 'MSTATUS', 'GENDER', 'EDUCATION', 'CAR_USE', 'CAR_TYPE', 'RED_CAR', 'REVOKED', 'URBANICITY', 'OCCUPATION']\n"
     ]
    }
   ],
   "source": [
    "# Split into numerical and categorical columns\n",
    "numerical_columns = ['KIDSDRIV', 'AGE', 'HOMEKIDS', 'YOJ', 'TRAVTIME', 'TIF', 'MVR_PTS', 'INCOME', 'HOME_VAL', 'BLUEBOOK', 'CLM_AMT', 'CAR_AGE']\n",
    "categorical_columns = ['PARENT1', 'MSTATUS', 'GENDER', 'EDUCATION', 'CAR_USE', 'CAR_TYPE', 'RED_CAR', 'REVOKED', 'URBANICITY', 'OCCUPATION']\n",
    "\n",
    "# Ensure the lists are correctly defined\n",
    "print(\"Numerical columns:\", numerical_columns)\n",
    "print(\"Categorical columns:\", categorical_columns)"
   ]
  },
  {
   "cell_type": "markdown",
   "id": "206062de-1932-4c82-b0da-806b6c38c84e",
   "metadata": {},
   "source": [
    "## CHECK FOR CORRELATIONS IN THE DATASET"
   ]
  },
  {
   "cell_type": "code",
   "execution_count": 13,
   "id": "3b6d9ba1-0eb9-4c37-8455-6318a111aed8",
   "metadata": {},
   "outputs": [
    {
     "name": "stdout",
     "output_type": "stream",
     "text": [
      "AGE         1.000000\n",
      "HOME_VAL    0.209600\n",
      "INCOME      0.186202\n",
      "CAR_AGE     0.178592\n",
      "BLUEBOOK    0.166290\n",
      "YOJ         0.140878\n",
      "TRAVTIME   -0.001569\n",
      "TIF        -0.001890\n",
      "CLM_AMT    -0.049034\n",
      "MVR_PTS    -0.075732\n",
      "KIDSDRIV   -0.078427\n",
      "HOMEKIDS   -0.447787\n",
      "Name: AGE, dtype: float64\n"
     ]
    }
   ],
   "source": [
    "correlation_matrix = df[numerical_columns].corr()\n",
    "\n",
    "# Print correlation values for AGE\n",
    "print(correlation_matrix['AGE'].sort_values(ascending=False))"
   ]
  },
  {
   "cell_type": "code",
   "execution_count": 15,
   "id": "dd19d0a8-2f28-49d2-8a4f-e1dd347a9971",
   "metadata": {},
   "outputs": [
    {
     "name": "stdout",
     "output_type": "stream",
     "text": [
      "PARENT1\n",
      "No     45.873381\n",
      "Yes    37.908140\n",
      "Name: AGE, dtype: float64\n",
      "MSTATUS\n",
      "Yes     45.447462\n",
      "z_No    43.918958\n",
      "Name: AGE, dtype: float64\n",
      "GENDER\n",
      "M      45.483701\n",
      "z_F    44.282671\n",
      "Name: AGE, dtype: float64\n",
      "EDUCATION\n",
      "<High School     42.223545\n",
      "Bachelors        44.683091\n",
      "Masters          47.358999\n",
      "PhD              49.159529\n",
      "z_High School    43.180000\n",
      "Name: AGE, dtype: float64\n",
      "CAR_USE\n",
      "Commercial    44.530095\n",
      "Private       45.016290\n",
      "Name: AGE, dtype: float64\n",
      "CAR_TYPE\n",
      "Minivan        44.906424\n",
      "Panel Truck    46.492380\n",
      "Pickup         44.220090\n",
      "Sports Car     45.397109\n",
      "Van            45.613043\n",
      "z_SUV          44.186394\n",
      "Name: AGE, dtype: float64\n",
      "RED_CAR\n",
      "no     44.695605\n",
      "yes    45.187268\n",
      "Name: AGE, dtype: float64\n",
      "REVOKED\n",
      "No     44.982180\n",
      "Yes    43.799206\n",
      "Name: AGE, dtype: float64\n",
      "URBANICITY\n",
      "Highly Urban/ Urban      45.020793\n",
      "z_Highly Rural/ Rural    44.109126\n",
      "Name: AGE, dtype: float64\n",
      "OCCUPATION\n",
      "Clerical         41.769521\n",
      "Doctor           50.638629\n",
      "Home Maker       44.728894\n",
      "Lawyer           48.348206\n",
      "Manager          47.029435\n",
      "Professional     45.641335\n",
      "Student          41.595982\n",
      "z_Blue Collar    43.746941\n",
      "Name: AGE, dtype: float64\n"
     ]
    }
   ],
   "source": [
    "# Group by categorical columns and print mean AGE\n",
    "for col in categorical_columns:\n",
    "    print(df.groupby(col)['AGE'].mean())"
   ]
  },
  {
   "cell_type": "markdown",
   "id": "8082a32f-9704-4e89-a70c-84cd6aab6722",
   "metadata": {},
   "source": [
    "## PREPARE THE DATASET"
   ]
  },
  {
   "cell_type": "code",
   "execution_count": 17,
   "id": "9ef73e4b-6978-4f87-b812-73145ae2fcd9",
   "metadata": {},
   "outputs": [],
   "source": [
    "#Select the relevant numerical and categorical features for imputation\n",
    "features_for_imputation = ['YOJ', 'INCOME', 'HOME_VAL', 'BLUEBOOK', 'AGE', 'PARENT1', \n",
    "                           'MSTATUS', 'GENDER', 'EDUCATION', 'CAR_USE', 'CAR_TYPE', \n",
    "                           'RED_CAR', 'REVOKED', 'URBANICITY', 'OCCUPATION', 'CAR_AGE']\n",
    "\n",
    "# Copy the relevant columns into a new DataFrame\n",
    "df_impute = df[features_for_imputation].copy()"
   ]
  },
  {
   "cell_type": "code",
   "execution_count": 19,
   "id": "8fbd9c6e-09b9-4744-a353-6e728c081e5e",
   "metadata": {},
   "outputs": [],
   "source": [
    "# Encode categorical variables\n",
    "label_encoders = {}\n",
    "for col in ['PARENT1', 'MSTATUS', 'GENDER', 'EDUCATION', 'CAR_USE', \n",
    "            'CAR_TYPE', 'RED_CAR', 'REVOKED', 'URBANICITY', 'OCCUPATION']:\n",
    "    le = LabelEncoder()\n",
    "    df_impute[col] = le.fit_transform(df_impute[col].astype(str))\n",
    "    label_encoders[col] = le"
   ]
  },
  {
   "cell_type": "markdown",
   "id": "0fa64869-d41f-4df2-8510-49301c61c9b4",
   "metadata": {},
   "source": [
    "## TRAIN THE DATASET"
   ]
  },
  {
   "cell_type": "code",
   "execution_count": 21,
   "id": "b890fdd2-55fb-4f91-9eac-216c66cc86ed",
   "metadata": {},
   "outputs": [],
   "source": [
    "# Initialize the KNN imputer\n",
    "knn_imputer = KNNImputer(n_neighbors=5)"
   ]
  },
  {
   "cell_type": "code",
   "execution_count": 23,
   "id": "1a1030cf-0e42-4664-868a-3dd952560ea1",
   "metadata": {},
   "outputs": [],
   "source": [
    "# Apply KNN imputation to the data\n",
    "df_imputed = knn_imputer.fit_transform(df_impute)"
   ]
  },
  {
   "cell_type": "code",
   "execution_count": 25,
   "id": "77c95271-ff64-4a26-a6e6-d9e3622d7337",
   "metadata": {},
   "outputs": [],
   "source": [
    "# Replace the original AGE column in the original DataFrame with the imputed values\n",
    "df['AGE'] = df_imputed[:, 0]"
   ]
  },
  {
   "cell_type": "code",
   "execution_count": 27,
   "id": "289e4259-7acc-48a3-a402-76468d0c92f9",
   "metadata": {},
   "outputs": [
    {
     "name": "stdout",
     "output_type": "stream",
     "text": [
      "0\n"
     ]
    }
   ],
   "source": [
    "# Check if missing values are imputed\n",
    "print(df['AGE'].isnull().sum())"
   ]
  },
  {
   "cell_type": "code",
   "execution_count": 49,
   "id": "10928136-221e-400e-a3da-d06be806a891",
   "metadata": {},
   "outputs": [],
   "source": [
    "# Save the imputed dataset to a CSV file\n",
    "df.to_csv('KNNimputed_AGE_dataset3.csv', index=False)"
   ]
  },
  {
   "cell_type": "markdown",
   "id": "7cbb7216-9bb2-469f-826d-69d8c008ded1",
   "metadata": {},
   "source": [
    "## ACCURACY"
   ]
  },
  {
   "cell_type": "code",
   "execution_count": 31,
   "id": "72421d2c-4b42-4cc4-894a-21f23651cc86",
   "metadata": {},
   "outputs": [],
   "source": [
    "# Create a copy of the original data and introduce random missing values\n",
    "df_test = df.copy()\n",
    "\n",
    "# Define the fraction of data to randomly remove for testing (e.g., 20%)\n",
    "missing_fraction = 0.2\n",
    "np.random.seed(42)  # For reproducibility\n",
    "\n",
    "# Randomly select 20% of the non-missing AGE values to be set as NaN for testing\n",
    "non_null_indices = df_test[df_test['AGE'].notnull()].index\n",
    "test_indices = np.random.choice(non_null_indices, size=int(missing_fraction * len(non_null_indices)), replace=False)\n",
    "original_values = df_test.loc[test_indices, 'AGE']  # Store the original values for comparison\n",
    "df_test.loc[test_indices, 'AGE'] = np.nan  # Introduce missing values"
   ]
  },
  {
   "cell_type": "code",
   "execution_count": 33,
   "id": "d9299a93-ea71-481d-bceb-2655170f0788",
   "metadata": {},
   "outputs": [],
   "source": [
    "# Impute the missing values using KNN (reusing the previous code)\n",
    "# Make sure you use the same feature selection and encoding as before\n",
    "df_impute_test = df_test[features_for_imputation].copy()\n",
    "\n",
    "# Apply the label encoding for categorical features\n",
    "for col in ['PARENT1', 'MSTATUS', 'GENDER', 'EDUCATION', 'CAR_USE', \n",
    "            'CAR_TYPE', 'RED_CAR', 'REVOKED', 'URBANICITY', 'OCCUPATION']:\n",
    "    le = label_encoders[col]\n",
    "    df_impute_test[col] = le.transform(df_impute_test[col].astype(str))\n",
    "\n",
    "# Apply KNN imputer to the test data\n",
    "df_imputed_test = knn_imputer.fit_transform(df_impute_test)"
   ]
  },
  {
   "cell_type": "code",
   "execution_count": 34,
   "id": "99ebb43d-fa55-4ffd-b30c-ebf71fa83320",
   "metadata": {},
   "outputs": [],
   "source": [
    "# Compare the imputed values with the original values\n",
    "# Get the imputed AGE values\n",
    "imputed_values = df_imputed_test[test_indices, 0]"
   ]
  },
  {
   "cell_type": "code",
   "execution_count": 37,
   "id": "42f592d6-8aa1-4477-8afa-10423c7bbea2",
   "metadata": {},
   "outputs": [
    {
     "name": "stdout",
     "output_type": "stream",
     "text": [
      "Mean Squared Error for AGE imputation: 0.0003106796116504846\n",
      "Mean Absolute Error for AGE imputation: 0.0003883495145631063\n",
      "R-squared (R²): 0.9999805039752102\n"
     ]
    }
   ],
   "source": [
    "# Calculate the mean squared error (or any other metric) between original and imputed values\n",
    "mse = mean_squared_error(original_values, imputed_values)\n",
    "print(f'Mean Squared Error for AGE imputation: {mse}')\n",
    "\n",
    "# Mean Absolute Error (MAE)\n",
    "mae = mean_absolute_error(original_values, imputed_values)\n",
    "print(f'Mean Absolute Error for AGE imputation: {mae}')\n",
    "\n",
    "# R-squared (R²)\n",
    "r2 = r2_score(original_values, imputed_values)\n",
    "print(f'R-squared (R²): {r2}')"
   ]
  },
  {
   "cell_type": "markdown",
   "id": "0eb25690-340e-4b20-ba1f-12f93b17d34f",
   "metadata": {},
   "source": [
    "MSE of 0.000 suggests that, on average, the value is relatively low meaning the imputation predictions are close to the true values, with small errors.                  \n",
    "MAE of  0.000 suggests that, on average, the predictions deviate from the actual values by about 0.115 units. This is a low error, signifying good predictive performance.                    \n",
    "R² of 0.999 indicates that about 99.99% of the variance in the actual INCOME values is explained by the imputed values. This suggests a highly accurate imputation model."
   ]
  },
  {
   "cell_type": "code",
   "execution_count": null,
   "id": "28e30f2e-a082-4d5e-bd30-fd3328bad760",
   "metadata": {},
   "outputs": [],
   "source": []
  }
 ],
 "metadata": {
  "kernelspec": {
   "display_name": "Python 3 (ipykernel)",
   "language": "python",
   "name": "python3"
  },
  "language_info": {
   "codemirror_mode": {
    "name": "ipython",
    "version": 3
   },
   "file_extension": ".py",
   "mimetype": "text/x-python",
   "name": "python",
   "nbconvert_exporter": "python",
   "pygments_lexer": "ipython3",
   "version": "3.12.4"
  }
 },
 "nbformat": 4,
 "nbformat_minor": 5
}
